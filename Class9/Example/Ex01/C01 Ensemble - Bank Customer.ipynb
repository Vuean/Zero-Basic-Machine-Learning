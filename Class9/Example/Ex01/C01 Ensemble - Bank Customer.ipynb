{
 "cells": [
  {
   "cell_type": "code",
   "execution_count": 27,
   "metadata": {},
   "outputs": [
    {
     "data": {
      "text/html": [
       "<div>\n",
       "<style scoped>\n",
       "    .dataframe tbody tr th:only-of-type {\n",
       "        vertical-align: middle;\n",
       "    }\n",
       "\n",
       "    .dataframe tbody tr th {\n",
       "        vertical-align: top;\n",
       "    }\n",
       "\n",
       "    .dataframe thead th {\n",
       "        text-align: right;\n",
       "    }\n",
       "</style>\n",
       "<table border=\"1\" class=\"dataframe\">\n",
       "  <thead>\n",
       "    <tr style=\"text-align: right;\">\n",
       "      <th></th>\n",
       "      <th>Name</th>\n",
       "      <th>Gender</th>\n",
       "      <th>Age</th>\n",
       "      <th>City</th>\n",
       "      <th>Tenure</th>\n",
       "      <th>ProductsNo</th>\n",
       "      <th>HasCard</th>\n",
       "      <th>ActiveMember</th>\n",
       "      <th>Credit</th>\n",
       "      <th>AccountBal</th>\n",
       "      <th>Salary</th>\n",
       "      <th>Exited</th>\n",
       "    </tr>\n",
       "  </thead>\n",
       "  <tbody>\n",
       "    <tr>\n",
       "      <th>0</th>\n",
       "      <td>Kan Jian</td>\n",
       "      <td>Female</td>\n",
       "      <td>40</td>\n",
       "      <td>Beijing</td>\n",
       "      <td>9</td>\n",
       "      <td>2</td>\n",
       "      <td>0</td>\n",
       "      <td>1</td>\n",
       "      <td>516</td>\n",
       "      <td>6360.66</td>\n",
       "      <td>0.0000</td>\n",
       "      <td>0</td>\n",
       "    </tr>\n",
       "    <tr>\n",
       "      <th>1</th>\n",
       "      <td>Xue Baochai</td>\n",
       "      <td>Male</td>\n",
       "      <td>69</td>\n",
       "      <td>Beijing</td>\n",
       "      <td>6</td>\n",
       "      <td>2</td>\n",
       "      <td>0</td>\n",
       "      <td>1</td>\n",
       "      <td>682</td>\n",
       "      <td>28605.00</td>\n",
       "      <td>0.0000</td>\n",
       "      <td>0</td>\n",
       "    </tr>\n",
       "    <tr>\n",
       "      <th>2</th>\n",
       "      <td>Mao Xi</td>\n",
       "      <td>Female</td>\n",
       "      <td>32</td>\n",
       "      <td>Beijing</td>\n",
       "      <td>9</td>\n",
       "      <td>1</td>\n",
       "      <td>1</td>\n",
       "      <td>1</td>\n",
       "      <td>803</td>\n",
       "      <td>10378.09</td>\n",
       "      <td>236311.0932</td>\n",
       "      <td>1</td>\n",
       "    </tr>\n",
       "    <tr>\n",
       "      <th>3</th>\n",
       "      <td>Zheng Nengliang</td>\n",
       "      <td>Female</td>\n",
       "      <td>37</td>\n",
       "      <td>Tianjin</td>\n",
       "      <td>0</td>\n",
       "      <td>2</td>\n",
       "      <td>1</td>\n",
       "      <td>1</td>\n",
       "      <td>778</td>\n",
       "      <td>25564.01</td>\n",
       "      <td>129909.8079</td>\n",
       "      <td>1</td>\n",
       "    </tr>\n",
       "    <tr>\n",
       "      <th>4</th>\n",
       "      <td>Zhi Fen</td>\n",
       "      <td>Male</td>\n",
       "      <td>55</td>\n",
       "      <td>Tianjin</td>\n",
       "      <td>4</td>\n",
       "      <td>3</td>\n",
       "      <td>1</td>\n",
       "      <td>0</td>\n",
       "      <td>547</td>\n",
       "      <td>3235.61</td>\n",
       "      <td>136976.1948</td>\n",
       "      <td>1</td>\n",
       "    </tr>\n",
       "  </tbody>\n",
       "</table>\n",
       "</div>"
      ],
      "text/plain": [
       "              Name  Gender  Age     City  Tenure  ProductsNo  HasCard  \\\n",
       "0         Kan Jian  Female   40  Beijing       9           2        0   \n",
       "1      Xue Baochai    Male   69  Beijing       6           2        0   \n",
       "2           Mao Xi  Female   32  Beijing       9           1        1   \n",
       "3  Zheng Nengliang  Female   37  Tianjin       0           2        1   \n",
       "4          Zhi Fen    Male   55  Tianjin       4           3        1   \n",
       "\n",
       "   ActiveMember  Credit  AccountBal       Salary  Exited  \n",
       "0             1     516     6360.66       0.0000       0  \n",
       "1             1     682    28605.00       0.0000       0  \n",
       "2             1     803    10378.09  236311.0932       1  \n",
       "3             1     778    25564.01  129909.8079       1  \n",
       "4             0     547     3235.61  136976.1948       1  "
      ]
     },
     "execution_count": 27,
     "metadata": {},
     "output_type": "execute_result"
    }
   ],
   "source": [
    "import numpy as np\n",
    "import pandas as pd\n",
    "df_bank = pd.read_csv('./dataset/BankCustomer.csv')\n",
    "df_bank.head()"
   ]
  },
  {
   "cell_type": "code",
   "execution_count": 28,
   "metadata": {},
   "outputs": [
    {
     "data": {
      "image/png": "[encoded data removed]",
      "text/plain": [
       "<Figure size 1080x1080 with 8 Axes>"
      ]
     },
     "metadata": {
      "needs_background": "light"
     },
     "output_type": "display_data"
    }
   ],
   "source": [
    "import matplotlib.pyplot as plt\n",
    "import seaborn as sns\n",
    "# 显示不同特征的分布情况\n",
    "features = ['City', 'Gender', 'Age', 'Tenure', 'ProductsNo', 'HasCard',\n",
    "                        'ActiveMember', 'Exited']\n",
    "fig = plt.subplots(figsize=(15, 15))\n",
    "for i, j in enumerate(features):\n",
    "    plt.subplot(4, 2, i+1)\n",
    "    plt.subplots_adjust(hspace=0.5)\n",
    "    sns.countplot(x=j, data=df_bank)\n",
    "    plt.title(\"No. of costumers\")"
   ]
  },
  {
   "cell_type": "code",
   "execution_count": 29,
   "metadata": {},
   "outputs": [
    {
     "name": "stdout",
     "output_type": "stream",
     "text": [
      "Gender unique values [0 1]\n"
     ]
    }
   ],
   "source": [
    "# 把二元类别文本数字化\n",
    "df_bank['Gender'].replace(\"Female\", 0, inplace = True)\n",
    "df_bank['Gender'].replace(\"Male\", 1, inplace = True)\n",
    "# 显示数字类别\n",
    "print(\"Gender unique values\", df_bank['Gender'].unique())"
   ]
  },
  {
   "cell_type": "code",
   "execution_count": 30,
   "metadata": {},
   "outputs": [
    {
     "data": {
      "text/html": [
       "<div>\n",
       "<style scoped>\n",
       "    .dataframe tbody tr th:only-of-type {\n",
       "        vertical-align: middle;\n",
       "    }\n",
       "\n",
       "    .dataframe tbody tr th {\n",
       "        vertical-align: top;\n",
       "    }\n",
       "\n",
       "    .dataframe thead th {\n",
       "        text-align: right;\n",
       "    }\n",
       "</style>\n",
       "<table border=\"1\" class=\"dataframe\">\n",
       "  <thead>\n",
       "    <tr style=\"text-align: right;\">\n",
       "      <th></th>\n",
       "      <th>Gender</th>\n",
       "      <th>Age</th>\n",
       "      <th>Tenure</th>\n",
       "      <th>ProductsNo</th>\n",
       "      <th>HasCard</th>\n",
       "      <th>ActiveMember</th>\n",
       "      <th>Credit</th>\n",
       "      <th>AccountBal</th>\n",
       "      <th>Salary</th>\n",
       "      <th>City_Beijing</th>\n",
       "      <th>City_Shanghai</th>\n",
       "      <th>City_Tianjin</th>\n",
       "    </tr>\n",
       "  </thead>\n",
       "  <tbody>\n",
       "    <tr>\n",
       "      <th>0</th>\n",
       "      <td>0</td>\n",
       "      <td>40</td>\n",
       "      <td>9</td>\n",
       "      <td>2</td>\n",
       "      <td>0</td>\n",
       "      <td>1</td>\n",
       "      <td>516</td>\n",
       "      <td>6360.66</td>\n",
       "      <td>0.0000</td>\n",
       "      <td>1</td>\n",
       "      <td>0</td>\n",
       "      <td>0</td>\n",
       "    </tr>\n",
       "    <tr>\n",
       "      <th>1</th>\n",
       "      <td>1</td>\n",
       "      <td>69</td>\n",
       "      <td>6</td>\n",
       "      <td>2</td>\n",
       "      <td>0</td>\n",
       "      <td>1</td>\n",
       "      <td>682</td>\n",
       "      <td>28605.00</td>\n",
       "      <td>0.0000</td>\n",
       "      <td>1</td>\n",
       "      <td>0</td>\n",
       "      <td>0</td>\n",
       "    </tr>\n",
       "    <tr>\n",
       "      <th>2</th>\n",
       "      <td>0</td>\n",
       "      <td>32</td>\n",
       "      <td>9</td>\n",
       "      <td>1</td>\n",
       "      <td>1</td>\n",
       "      <td>1</td>\n",
       "      <td>803</td>\n",
       "      <td>10378.09</td>\n",
       "      <td>236311.0932</td>\n",
       "      <td>1</td>\n",
       "      <td>0</td>\n",
       "      <td>0</td>\n",
       "    </tr>\n",
       "    <tr>\n",
       "      <th>3</th>\n",
       "      <td>0</td>\n",
       "      <td>37</td>\n",
       "      <td>0</td>\n",
       "      <td>2</td>\n",
       "      <td>1</td>\n",
       "      <td>1</td>\n",
       "      <td>778</td>\n",
       "      <td>25564.01</td>\n",
       "      <td>129909.8079</td>\n",
       "      <td>0</td>\n",
       "      <td>0</td>\n",
       "      <td>1</td>\n",
       "    </tr>\n",
       "    <tr>\n",
       "      <th>4</th>\n",
       "      <td>1</td>\n",
       "      <td>55</td>\n",
       "      <td>4</td>\n",
       "      <td>3</td>\n",
       "      <td>1</td>\n",
       "      <td>0</td>\n",
       "      <td>547</td>\n",
       "      <td>3235.61</td>\n",
       "      <td>136976.1948</td>\n",
       "      <td>0</td>\n",
       "      <td>0</td>\n",
       "      <td>1</td>\n",
       "    </tr>\n",
       "  </tbody>\n",
       "</table>\n",
       "</div>"
      ],
      "text/plain": [
       "   Gender  Age  Tenure  ProductsNo  HasCard  ActiveMember  Credit  AccountBal  \\\n",
       "0       0   40       9           2        0             1     516     6360.66   \n",
       "1       1   69       6           2        0             1     682    28605.00   \n",
       "2       0   32       9           1        1             1     803    10378.09   \n",
       "3       0   37       0           2        1             1     778    25564.01   \n",
       "4       1   55       4           3        1             0     547     3235.61   \n",
       "\n",
       "        Salary  City_Beijing  City_Shanghai  City_Tianjin  \n",
       "0       0.0000             1              0             0  \n",
       "1       0.0000             1              0             0  \n",
       "2  236311.0932             1              0             0  \n",
       "3  129909.8079             0              0             1  \n",
       "4  136976.1948             0              0             1  "
      ]
     },
     "execution_count": 30,
     "metadata": {},
     "output_type": "execute_result"
    }
   ],
   "source": [
    "# 把多元类别转换成多个二元哑变量，然后贴回原始数据集\n",
    "d_city = pd.get_dummies(df_bank['City'], prefix=\"City\")\n",
    "df_bank = [df_bank, d_city]\n",
    "df_bank = pd.concat(df_bank, axis = 1)\n",
    "# 构建特征和标签集合\n",
    "y = df_bank['Exited']\n",
    "X = df_bank.drop(['Name', 'Exited', 'City'], axis = 1)\n",
    "X.head()"
   ]
  },
  {
   "cell_type": "code",
   "execution_count": 31,
   "metadata": {},
   "outputs": [],
   "source": [
    "from sklearn.model_selection import train_test_split\n",
    "X_train, X_test, y_train, y_test = train_test_split(X, y, test_size=0.2, \n",
    "                                                                                                random_state=0)"
   ]
  },
  {
   "cell_type": "code",
   "execution_count": 32,
   "metadata": {},
   "outputs": [
    {
     "name": "stdout",
     "output_type": "stream",
     "text": [
      "决策树测试准确率: 85.00%\n",
      "决策树测试F1分数: 56.90%\n",
      "决策树Bagging测试准确率: 85.20%\n",
      "决策树Bagging测试F1分数: 57.23%\n"
     ]
    }
   ],
   "source": [
    "# 对多棵决策树进行Bagging，即树的聚合\n",
    "from sklearn.ensemble import BaggingClassifier # 导入Bagging分类器\n",
    "from sklearn.tree import DecisionTreeClassifier # 导入决策树分类器\n",
    "from sklearn.metrics import (f1_score, confusion_matrix) # 导入评估标准\n",
    "dt = BaggingClassifier(DecisionTreeClassifier()) # 只使用一棵决策树\n",
    "dt.fit(X_train, y_train) # 拟合模型\n",
    "y_pred = dt.predict(X_test) # 进行预测\n",
    "print(\"决策树测试准确率: {:.2f}%\".format(dt.score(X_test, y_test)*100))\n",
    "print(\"决策树测试F1分数: {:.2f}%\".format(f1_score(y_test, y_pred)*100))\n",
    "bdt = BaggingClassifier(DecisionTreeClassifier()) #树的Bagging\n",
    "bdt.fit(X_train, y_train) # 拟合模型\n",
    "y_pred = bdt.predict(X_test) # 进行预测\n",
    "print(\"决策树Bagging测试准确率: {:.2f}%\".format(bdt.score(X_test, y_test)*100))\n",
    "print(\"决策树Bagging测试F1分数: {:.2f}%\".format(f1_score(y_test, y_pred)*100))"
   ]
  },
  {
   "cell_type": "code",
   "execution_count": 33,
   "metadata": {},
   "outputs": [
    {
     "name": "stdout",
     "output_type": "stream",
     "text": [
      "Fitting 5 folds for each of 20 candidates, totalling 100 fits\n",
      "决策树Bagging测试准确率: 86.00%\n",
      "决策树Bagging测试F1分数: 58.46%\n"
     ]
    }
   ],
   "source": [
    "# 用网格搜索再进行参数优化\n",
    "from sklearn.model_selection import GridSearchCV # 导入网格搜索工具\n",
    "dbt_param_grid = {\n",
    "    'base_estimator__max_depth': [5, 10, 20, 50, 100],\n",
    "    'n_estimators': [1, 5, 10, 50]\n",
    "}\n",
    "dbt_gs = GridSearchCV(BaggingClassifier(DecisionTreeClassifier()),\n",
    "            param_grid = dbt_param_grid, scoring='f1',\n",
    "            n_jobs=10, verbose=1)\n",
    "dbt_gs.fit(X_train, y_train)\n",
    "dbt_gs = dbt_gs.best_estimator_\n",
    "y_pred = dbt_gs.predict(X_test)\n",
    "print(\"决策树Bagging测试准确率: {:.2f}%\".format(dbt_gs.score(X_test, y_test)*100))\n",
    "print(\"决策树Bagging测试F1分数: {:.2f}%\".format(f1_score(y_test, y_pred)*100))"
   ]
  },
  {
   "cell_type": "markdown",
   "metadata": {},
   "source": [
    "### 9.2.2 从树的聚合到随机森林"
   ]
  },
  {
   "cell_type": "code",
   "execution_count": 34,
   "metadata": {},
   "outputs": [
    {
     "name": "stdout",
     "output_type": "stream",
     "text": [
      "Fitting 5 folds for each of 108 candidates, totalling 540 fits\n",
      "随机森林测试准确率: 86.80%\n",
      "随机森林测试F1分数: 61.18%\n"
     ]
    }
   ],
   "source": [
    "from sklearn.ensemble import RandomForestClassifier # 导入随机森林分类器\n",
    "rf = RandomForestClassifier()\n",
    "# 使用网格搜索优化参数\n",
    "rf_param_grids = {\"max_depth\": [None],\n",
    "                        \"max_features\": [1, 3, 10],\n",
    "                        \"min_samples_split\":[2, 3, 10],\n",
    "                        \"min_samples_leaf\": [1, 3, 10],\n",
    "                        \"bootstrap\": [True, False],\n",
    "                        \"n_estimators\": [100, 300],\n",
    "                        \"criterion\": [\"gini\"]}\n",
    "rf_gs = GridSearchCV(rf, param_grid = rf_param_grids,\n",
    "                                        scoring = \"f1\", n_jobs=10, verbose=1)\n",
    "rf_gs.fit(X_train, y_train)\n",
    "rf_gs = rf_gs.best_estimator_\n",
    "y_pred = rf_gs.predict(X_test)\n",
    "print(\"随机森林测试准确率: {:.2f}%\".format(rf_gs.score(X_test, y_test)*100))\n",
    "print(\"随机森林测试F1分数: {:.2f}%\".format(f1_score(y_test, y_pred)*100)) "
   ]
  },
  {
   "cell_type": "markdown",
   "metadata": {},
   "source": [
    "### 9.2.3 从随机森林到极端随机森林"
   ]
  },
  {
   "cell_type": "code",
   "execution_count": 35,
   "metadata": {},
   "outputs": [
    {
     "name": "stdout",
     "output_type": "stream",
     "text": [
      "Fitting 5 folds for each of 108 candidates, totalling 540 fits\n",
      "更多树测试准确率: 86.30%\n",
      "更多树测试F1分数: 59.23%\n"
     ]
    }
   ],
   "source": [
    "from sklearn.ensemble import ExtraTreesClassifier # 导入极端随机森林分类器\n",
    "ext = ExtraTreesClassifier()\n",
    "# 使用网格搜索优化参数\n",
    "ext_param_grids = {\"max_depth\": [None],\n",
    "                        \"max_features\": [1, 3, 10],\n",
    "                        \"min_samples_split\":[2, 3, 10],\n",
    "                        \"min_samples_leaf\": [1, 3, 10],\n",
    "                        \"bootstrap\": [True, False],\n",
    "                        \"n_estimators\": [100, 300],\n",
    "                        \"criterion\": [\"gini\"]}\n",
    "ext_gs = GridSearchCV(ext, param_grid = ext_param_grids,\n",
    "                                        scoring = \"f1\", n_jobs=4, verbose=1)\n",
    "ext_gs.fit(X_train, y_train)\n",
    "ext_gs = ext_gs.best_estimator_\n",
    "y_pred = ext_gs.predict(X_test)\n",
    "print(\"更多树测试准确率: {:.2f}%\".format(ext_gs.score(X_test, y_test)*100))\n",
    "print(\"更多树测试F1分数: {:.2f}%\".format(f1_score(y_test, y_pred)*100)) "
   ]
  },
  {
   "cell_type": "markdown",
   "metadata": {},
   "source": [
    "### 9.3.1 Ada Boost算法"
   ]
  },
  {
   "cell_type": "code",
   "execution_count": null,
   "metadata": {},
   "outputs": [],
   "source": [
    "from sklearn.ensemble import AdaBoostClassifier # 导入AdaBoost模型\n",
    "dt = DecisionTreeClassifier()  # 选择决策树分类器作为AdaBoost的基准算法\n",
    "ada = AdaBoostClassifier(dt)\n",
    "# 使用网格化搜索优化参数\n"
   ]
  }
 ],
 "metadata": {
  "interpreter": {
   "hash": "96bbb65fb5df4d9cc0d3b437c46ecfe8c6742e111c114025f0cea31b14306341"
  },
  "kernelspec": {
   "display_name": "Python 3.8.8 ('Vuean_ML')",
   "language": "python",
   "name": "python3"
  },
  "language_info": {
   "codemirror_mode": {
    "name": "ipython",
    "version": 3
   },
   "file_extension": ".py",
   "mimetype": "text/x-python",
   "name": "python",
   "nbconvert_exporter": "python",
   "pygments_lexer": "ipython3",
   "version": "3.8.8"
  },
  "orig_nbformat": 4
 },
 "nbformat": 4,
 "nbformat_minor": 2
}
