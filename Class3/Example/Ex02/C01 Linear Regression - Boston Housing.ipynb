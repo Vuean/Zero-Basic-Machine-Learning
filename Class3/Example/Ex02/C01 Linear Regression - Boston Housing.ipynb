{
 "cells": [
  {
   "cell_type": "code",
   "execution_count": 23,
   "metadata": {},
   "outputs": [],
   "source": [
    "import numpy as np\n",
    "import pandas as pd\n",
    "from keras.datasets import boston_housing\n",
    "(X_train, y_train), (X_test, y_test) = boston_housing.load_data()"
   ]
  },
  {
   "cell_type": "code",
   "execution_count": 24,
   "metadata": {},
   "outputs": [],
   "source": [
    "def cost_function(X, y, W):\n",
    "    # X -> 是一个矩阵，形状是(N,M),N是数据集大小，M是特征数量\n",
    "    # W -> 是一个向量，形状是(M,1)（1*）\n",
    "    y_hat = X.dot(W.T)\n",
    "    loss = y_hat - y\n",
    "    cost = np.sum(loss**2) / len(X)\n",
    "    return cost"
   ]
  },
  {
   "cell_type": "code",
   "execution_count": 25,
   "metadata": {},
   "outputs": [],
   "source": [
    "def gradient_descent(X, y, W, alpha, iterations):\n",
    "    l_history = np.zeros(iterations)\n",
    "    W_history = np.zeros((iterations, len(W)))\n",
    "    for iter in range(iterations):\n",
    "        y_hat = X.dot(W)\n",
    "        loss = y_hat - y\n",
    "        derivative_W = X.T.dot(loss) / (2 * len(X))\n",
    "        derivative_W = derivative_W.reshape(len(W))\n",
    "        W = W - alpha * derivative_W\n",
    "        l_history[iter] = cost_function(X, y, W)\n",
    "        W_history[iter] = W\n",
    "    return l_history, W_history"
   ]
  },
  {
   "cell_type": "code",
   "execution_count": 32,
   "metadata": {},
   "outputs": [
    {
     "data": {
      "text/plain": [
       "(404, 13)"
      ]
     },
     "execution_count": 32,
     "metadata": {},
     "output_type": "execute_result"
    }
   ],
   "source": [
    "X_train.shape"
   ]
  },
  {
   "cell_type": "code",
   "execution_count": 33,
   "metadata": {},
   "outputs": [
    {
     "data": {
      "text/plain": [
       "(13,)"
      ]
     },
     "execution_count": 33,
     "metadata": {},
     "output_type": "execute_result"
    }
   ],
   "source": [
    "w1 = np.array([0.5,1.2,0.1,0.1,0.1,0.1,0.1,0.1,0.1,0.1,0.1,0.1,0.1])\n",
    "w1.shape"
   ]
  },
  {
   "cell_type": "code",
   "execution_count": 40,
   "metadata": {},
   "outputs": [
    {
     "data": {
      "text/plain": [
       "(404,)"
      ]
     },
     "execution_count": 40,
     "metadata": {},
     "output_type": "execute_result"
    }
   ],
   "source": [
    "xtest_1 = X_train.dot(w1)\n",
    "xtest_1.shape"
   ]
  },
  {
   "cell_type": "code",
   "execution_count": 39,
   "metadata": {},
   "outputs": [
    {
     "data": {
      "text/plain": [
       "(404,)"
      ]
     },
     "execution_count": 39,
     "metadata": {},
     "output_type": "execute_result"
    }
   ],
   "source": [
    "xtest_2 = X_train.dot(w1.T)\n",
    "xtest_2.shape"
   ]
  },
  {
   "cell_type": "code",
   "execution_count": 26,
   "metadata": {},
   "outputs": [
    {
     "name": "stdout",
     "output_type": "stream",
     "text": [
      "当前损失： 7661.442353600208\n"
     ]
    }
   ],
   "source": [
    "# 首先确定参数的初始值\n",
    "iterations = 12000\n",
    "alpha = 0.00001\n",
    "weight = np.array([0.5,1.2,0.1,0.1,0.1,0.1,0.1,0.1,0.1,0.1,0.1,0.1,0.1])\n",
    "#计算一下初始值的损失\n",
    "print ('当前损失：',cost_function(X_train, y_train, weight))"
   ]
  },
  {
   "cell_type": "code",
   "execution_count": 27,
   "metadata": {},
   "outputs": [],
   "source": [
    "# 定义线性回归模型\n",
    "def linear_regression(X, y, W, alpha, iterations):\n",
    "    loss_history, W_history = gradient_descent(X, y, W, alpha, iterations)\n",
    "    print(\"训练最终损失:\", loss_history[-1]) # 打印最终损失\n",
    "    y_pred = X.dot(W_history[-1])\n",
    "    traning_acc = 100 - np.mean(np.abs(y_pred - y) / y) * 100\n",
    "    print(\"线性回归训练准确率: {:.2f}%\".format(traning_acc))  # 打印准确率\n",
    "    return loss_history, W_history # 返回训练历史记录"
   ]
  },
  {
   "cell_type": "code",
   "execution_count": 28,
   "metadata": {},
   "outputs": [
    {
     "name": "stdout",
     "output_type": "stream",
     "text": [
      "训练最终损失: 46.52456005801284\n",
      "线性回归训练准确率: 73.92%\n"
     ]
    }
   ],
   "source": [
    "loss_history, weight_history = linear_regression(X_train, y_train, weight, alpha, iterations) "
   ]
  },
  {
   "cell_type": "code",
   "execution_count": 29,
   "metadata": {},
   "outputs": [
    {
     "name": "stdout",
     "output_type": "stream",
     "text": [
      "权重历史记录： [-1.01999858e-01  1.31171778e-01 -5.73370359e-04  1.20500089e-01\n",
      "  1.09279291e-01  3.87936676e-01  1.13007411e-01  8.98427117e-02\n",
      "  1.09303884e-01 -3.73064774e-04  2.57257459e-01  3.61469088e-02\n",
      " -6.46577070e-01]\n",
      "损失历史记录： 46.52456005801284\n"
     ]
    }
   ],
   "source": [
    "loss_history, weight_history = gradient_descent(X_train, y_train, weight, alpha, iterations) \n",
    "print(\"权重历史记录：\", weight_history[-1])\n",
    "print(\"损失历史记录：\", loss_history[-1])"
   ]
  }
 ],
 "metadata": {
  "interpreter": {
   "hash": "694cdcaedaf049a0984f27e4a849c1af591c6b1d7a3cf6d6f220830adff0acba"
  },
  "kernelspec": {
   "display_name": "Python 3.8.8 ('Vuean_ML')",
   "language": "python",
   "name": "python3"
  },
  "language_info": {
   "codemirror_mode": {
    "name": "ipython",
    "version": 3
   },
   "file_extension": ".py",
   "mimetype": "text/x-python",
   "name": "python",
   "nbconvert_exporter": "python",
   "pygments_lexer": "ipython3",
   "version": "3.8.8"
  },
  "orig_nbformat": 4
 },
 "nbformat": 4,
 "nbformat_minor": 2
}
