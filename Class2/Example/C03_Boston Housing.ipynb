{
 "cells": [
  {
   "cell_type": "code",
   "execution_count": 1,
   "metadata": {},
   "outputs": [],
   "source": [
    "import numpy as np\n",
    "import pandas as pd\n",
    "from keras.datasets import boston_housing\n",
    "(X_train, y_train), (X_test, y_test) = boston_housing.load_data()"
   ]
  },
  {
   "cell_type": "code",
   "execution_count": 2,
   "metadata": {},
   "outputs": [
    {
     "name": "stdout",
     "output_type": "stream",
     "text": [
      "数据集张量形状： (404, 13)\n"
     ]
    }
   ],
   "source": [
    "print(\"数据集张量形状：\", X_train.shape)"
   ]
  },
  {
   "cell_type": "code",
   "execution_count": 3,
   "metadata": {},
   "outputs": [
    {
     "name": "stdout",
     "output_type": "stream",
     "text": [
      "第一个数据样本：\n",
      " [  1.23247   0.        8.14      0.        0.538     6.142    91.7\n",
      "   3.9769    4.      307.       21.      396.9      18.72   ]\n"
     ]
    }
   ],
   "source": [
    "print(\"第一个数据样本：\\n\", X_train[0])"
   ]
  },
  {
   "cell_type": "code",
   "execution_count": 4,
   "metadata": {},
   "outputs": [
    {
     "name": "stdout",
     "output_type": "stream",
     "text": [
      "第101到200个数据样本：\n",
      " [[5.75290e-01 0.00000e+00 6.20000e+00 ... 1.74000e+01 3.85910e+02\n",
      "  2.47000e+00]\n",
      " [4.75470e-01 0.00000e+00 9.90000e+00 ... 1.84000e+01 3.96230e+02\n",
      "  1.27300e+01]\n",
      " [1.27440e-01 0.00000e+00 6.91000e+00 ... 1.79000e+01 3.85410e+02\n",
      "  4.84000e+00]\n",
      " ...\n",
      " [9.06000e-03 9.00000e+01 2.97000e+00 ... 1.53000e+01 3.94720e+02\n",
      "  7.85000e+00]\n",
      " [2.36482e+01 0.00000e+00 1.81000e+01 ... 2.02000e+01 3.96900e+02\n",
      "  2.36900e+01]\n",
      " [4.98100e-02 2.10000e+01 5.64000e+00 ... 1.68000e+01 3.96900e+02\n",
      "  8.43000e+00]]\n"
     ]
    }
   ],
   "source": [
    "print(\"第101到200个数据样本：\\n\", X_train[101:199])"
   ]
  },
  {
   "cell_type": "code",
   "execution_count": 5,
   "metadata": {},
   "outputs": [
    {
     "name": "stdout",
     "output_type": "stream",
     "text": [
      "第一个数据样本的标签： 15.2\n"
     ]
    }
   ],
   "source": [
    "print (\"第一个数据样本的标签：\", y_train[0])"
   ]
  },
  {
   "cell_type": "code",
   "execution_count": 7,
   "metadata": {},
   "outputs": [
    {
     "name": "stdout",
     "output_type": "stream",
     "text": [
      "A张量形状： (5,)\n",
      "B张量形状： (5, 1)\n",
      "点积操作： [35]\n"
     ]
    }
   ],
   "source": [
    "A = np.array([1, 2, 3, 4, 5])\n",
    "B = np.array([[5], [4], [3], [2], [1]])\n",
    "print(\"A张量形状：\", A.shape)\n",
    "print(\"B张量形状：\", B.shape)\n",
    "print(\"点积操作：\", A.dot(B))\n",
    "# print(\"点积操作：\", B.dot(A)) # 报错"
   ]
  }
 ],
 "metadata": {
  "interpreter": {
   "hash": "694cdcaedaf049a0984f27e4a849c1af591c6b1d7a3cf6d6f220830adff0acba"
  },
  "kernelspec": {
   "display_name": "Python 3.8.8 ('Vuean_ML')",
   "language": "python",
   "name": "python3"
  },
  "language_info": {
   "codemirror_mode": {
    "name": "ipython",
    "version": 3
   },
   "file_extension": ".py",
   "mimetype": "text/x-python",
   "name": "python",
   "nbconvert_exporter": "python",
   "pygments_lexer": "ipython3",
   "version": "3.8.8"
  },
  "orig_nbformat": 4
 },
 "nbformat": 4,
 "nbformat_minor": 2
}
