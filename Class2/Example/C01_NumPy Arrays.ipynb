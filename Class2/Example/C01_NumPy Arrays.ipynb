{
 "cells": [
  {
   "cell_type": "markdown",
   "metadata": {},
   "source": [
    "### 2.4.2 标量——0D（阶）张量"
   ]
  },
  {
   "cell_type": "code",
   "execution_count": 2,
   "metadata": {},
   "outputs": [
    {
     "name": "stdout",
     "output_type": "stream",
     "text": [
      "X的值： 5\n",
      "X的阶： 0\n",
      "X的数据类型： int32\n",
      "X的形状： ()\n"
     ]
    }
   ],
   "source": [
    "import numpy as np\n",
    "X = np.array(5) # 创建0D张量，也就是标量\n",
    "print(\"X的值：\", X)\n",
    "print(\"X的阶：\", X.ndim)\n",
    "print(\"X的数据类型：\", X.dtype)\n",
    "print(\"X的形状：\", X.shape)\n"
   ]
  },
  {
   "cell_type": "code",
   "execution_count": 3,
   "metadata": {},
   "outputs": [
    {
     "name": "stdout",
     "output_type": "stream",
     "text": [
      "n =  1\n",
      "n =  2\n"
     ]
    }
   ],
   "source": [
    "n = 0\n",
    "for gender in [0, 1]:\n",
    "    n = n + 1\n",
    "    print(\"n = \", n)"
   ]
  },
  {
   "cell_type": "markdown",
   "metadata": {},
   "source": [
    "### 2.4.3 向量——1D（阶）张量"
   ]
  },
  {
   "cell_type": "code",
   "execution_count": 4,
   "metadata": {},
   "outputs": [
    {
     "name": "stdout",
     "output_type": "stream",
     "text": [
      "X的值： [5 6 7 8 9]\n",
      "X的阶： 1\n",
      "X的数据类型： int32\n",
      "X的形状： (5,)\n"
     ]
    }
   ],
   "source": [
    "X = np.array([5, 6, 7, 8, 9])\n",
    "print(\"X的值：\", X)\n",
    "print(\"X的阶：\", X.ndim)\n",
    "print(\"X的数据类型：\", X.dtype)\n",
    "print(\"X的形状：\", X.shape)"
   ]
  },
  {
   "cell_type": "code",
   "execution_count": 5,
   "metadata": {},
   "outputs": [],
   "source": [
    "X = np.array([5]) # 1维的向量，就是1D数组里面只有一个元素"
   ]
  },
  {
   "cell_type": "code",
   "execution_count": 6,
   "metadata": {},
   "outputs": [
    {
     "name": "stdout",
     "output_type": "stream",
     "text": [
      "X_train的形状： (404, 13)\n",
      "X_train中第一个样本的形状： (13,)\n",
      "y_train的形状： (404,)\n"
     ]
    }
   ],
   "source": [
    "from keras.datasets import boston_housing\n",
    "(X_train, y_train), (X_test, y_test) = boston_housing.load_data()\n",
    "print(\"X_train的形状：\", X_train.shape)\n",
    "print(\"X_train中第一个样本的形状：\", X_train[0].shape)\n",
    "print(\"y_train的形状：\", y_train.shape)"
   ]
  },
  {
   "cell_type": "code",
   "execution_count": 7,
   "metadata": {},
   "outputs": [
    {
     "name": "stdout",
     "output_type": "stream",
     "text": [
      "函数返回结果： 23.2\n"
     ]
    }
   ],
   "source": [
    "# 向量点积\n",
    "weight = np.array([1, -1.8, 1, 1, 2])\n",
    "X = np.array([1, 6, 7, 8, 9])\n",
    "y_hat = np.dot(X, weight)\n",
    "print('函数返回结果：', y_hat)"
   ]
  },
  {
   "cell_type": "code",
   "execution_count": 8,
   "metadata": {},
   "outputs": [
    {
     "data": {
      "text/plain": [
       "23.2"
      ]
     },
     "execution_count": 8,
     "metadata": {},
     "output_type": "execute_result"
    }
   ],
   "source": [
    "y_hat = weight.dot(X)\n",
    "y_hat"
   ]
  },
  {
   "cell_type": "markdown",
   "metadata": {},
   "source": [
    "### 2.4.4 矩阵——2D（阶）张量"
   ]
  },
  {
   "cell_type": "code",
   "execution_count": 9,
   "metadata": {},
   "outputs": [
    {
     "name": "stdout",
     "output_type": "stream",
     "text": [
      "X_train的内容： [[1.23247e+00 0.00000e+00 8.14000e+00 ... 2.10000e+01 3.96900e+02\n",
      "  1.87200e+01]\n",
      " [2.17700e-02 8.25000e+01 2.03000e+00 ... 1.47000e+01 3.95380e+02\n",
      "  3.11000e+00]\n",
      " [4.89822e+00 0.00000e+00 1.81000e+01 ... 2.02000e+01 3.75520e+02\n",
      "  3.26000e+00]\n",
      " ...\n",
      " [3.46600e-02 3.50000e+01 6.06000e+00 ... 1.69000e+01 3.62250e+02\n",
      "  7.83000e+00]\n",
      " [2.14918e+00 0.00000e+00 1.95800e+01 ... 1.47000e+01 2.61950e+02\n",
      "  1.57900e+01]\n",
      " [1.43900e-02 6.00000e+01 2.93000e+00 ... 1.56000e+01 3.76700e+02\n",
      "  4.38000e+00]]\n"
     ]
    }
   ],
   "source": [
    "print(\"X_train的内容：\", X_train) #X_train是2D张量，即矩阵"
   ]
  },
  {
   "cell_type": "code",
   "execution_count": 10,
   "metadata": {},
   "outputs": [],
   "source": [
    "# 创建3D张量\n",
    "X = np.array([[[1, 22, 4, 78, 2],\n",
    "               [2, 59, 6, 56, 1],\n",
    "               [3, 31, 8, 54, 0]],\n",
    "              [[4, 56, 9, 34, 1],\n",
    "               [5, 78, 8, 35, 2],\n",
    "               [6, 34, 7, 36, 0]],\n",
    "              [[7, 45,5, 34, 5],\n",
    "               [8, 53, 6, 35, 4],\n",
    "               [9, 81, 4, 36, 5]]])"
   ]
  }
 ],
 "metadata": {
  "interpreter": {
   "hash": "694cdcaedaf049a0984f27e4a849c1af591c6b1d7a3cf6d6f220830adff0acba"
  },
  "kernelspec": {
   "display_name": "Python 3.8.8 ('Vuean_ML')",
   "language": "python",
   "name": "python3"
  },
  "language_info": {
   "codemirror_mode": {
    "name": "ipython",
    "version": 3
   },
   "file_extension": ".py",
   "mimetype": "text/x-python",
   "name": "python",
   "nbconvert_exporter": "python",
   "pygments_lexer": "ipython3",
   "version": "3.8.8"
  },
  "orig_nbformat": 4
 },
 "nbformat": 4,
 "nbformat_minor": 2
}
