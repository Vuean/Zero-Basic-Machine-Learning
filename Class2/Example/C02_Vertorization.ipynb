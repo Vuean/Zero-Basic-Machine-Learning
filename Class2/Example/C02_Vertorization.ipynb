{
 "cells": [
  {
   "cell_type": "markdown",
   "metadata": {},
   "source": [
    "### 2.5.1 机器学习中张量的创建"
   ]
  },
  {
   "cell_type": "code",
   "execution_count": 1,
   "metadata": {},
   "outputs": [
    {
     "name": "stdout",
     "output_type": "stream",
     "text": [
      "列表： [1, 2, 3, 4, 5]\n",
      "列表转换为数组： [1 2 3 4 5]\n",
      "元组转换为数组： [ 6  7  8  9 10]\n",
      "2D数组： [[1 2 3]\n",
      " [4 5 6]]\n",
      "数组的形状： (5,)\n"
     ]
    }
   ],
   "source": [
    "import numpy as np\n",
    "list = [1, 2, 3, 4, 5] # 创建列表\n",
    "array_01 = np.array([1, 2, 3, 4, 5]) # 列表转换为数组\n",
    "array_02 = np.array((6, 7, 8, 9, 10)) # 元组转换为数组\n",
    "array_03 = np.array([[1, 2, 3], [4, 5, 6]]) # 列表转换为2D数组\n",
    "\n",
    "print('列表：', list)\n",
    "print('列表转换为数组：', array_01)\n",
    "print('元组转换为数组：', array_02)\n",
    "print('2D数组：', array_03)\n",
    "print('数组的形状：', array_01.shape)\n",
    "# print('列表的形状：', list.shape)   # 列表无形状，报错"
   ]
  },
  {
   "cell_type": "code",
   "execution_count": 2,
   "metadata": {},
   "outputs": [
    {
     "name": "stdout",
     "output_type": "stream",
     "text": [
      "[1 2 3 4]\n",
      "[1. 2. 3. 4. 5.]\n"
     ]
    }
   ],
   "source": [
    "# 其他方法生成数组\n",
    "\n",
    "# arange(a, b, c)生成a~b（不包括b），间隔为c的一个数组\n",
    "array_04 = np.arange(1, 5, 1)\n",
    "\n",
    "# linspace(a, b, c)生成a~b（包括b），平均分成c份\n",
    "array_05 = np.linspace(1, 5, 5)\n",
    "\n",
    "print(array_04)\n",
    "print(array_05)"
   ]
  },
  {
   "cell_type": "markdown",
   "metadata": {},
   "source": [
    "### 2.5.2 通过索引和切片访问张量中的数据"
   ]
  },
  {
   "cell_type": "code",
   "execution_count": 3,
   "metadata": {},
   "outputs": [
    {
     "name": "stdout",
     "output_type": "stream",
     "text": [
      "[0 1 2 3 4 5 6 7 8 9]\n",
      "第4个元素： 3\n",
      "第-1个（最后一个）元素： 9\n",
      "从0到4切片： [0 1 2 3]\n",
      "从0到12切片，步长为4： [0 4 8]\n"
     ]
    }
   ],
   "source": [
    "array_06 = np.arange(10)\n",
    "print(array_06)\n",
    "\n",
    "index_01 = array_06[3]\n",
    "print(\"第4个元素：\", index_01)\n",
    "\n",
    "index_02 = array_06[-1]\n",
    "print(\"第-1个（最后一个）元素：\", index_02)\n",
    "\n",
    "slice_01 = array_06[:4]\n",
    "print(\"从0到4切片：\", slice_01)\n",
    "\n",
    "slice_02 = array_06[0:12:4]\n",
    "print(\"从0到12切片，步长为4：\", slice_02)"
   ]
  },
  {
   "cell_type": "code",
   "execution_count": 4,
   "metadata": {},
   "outputs": [
    {
     "name": "stdout",
     "output_type": "stream",
     "text": [
      "(60000, 28, 28)\n"
     ]
    }
   ],
   "source": [
    "# 对MNIST数据切片\n",
    "from keras.datasets import mnist\n",
    "(X_train, y_train), (X_test, y_test) = mnist.load_data()\n",
    "print(X_train.shape)\n",
    "\n",
    "# 10000:15000表示把样本轴进行了切片，后面两个冒号表示，剩余的两个轴里的数据全部保留。\n",
    "X_train_slice = X_train[10000:15000, :, :]"
   ]
  },
  {
   "cell_type": "code",
   "execution_count": 5,
   "metadata": {},
   "outputs": [
    {
     "name": "stdout",
     "output_type": "stream",
     "text": [
      "[[4 5 6]] 它的形状是： (1, 3)\n",
      "[4 5 6] 它的形状又不同了： (3,)\n"
     ]
    }
   ],
   "source": [
    "array_07 = np.array([[1, 2, 3], [4, 5, 6]])\n",
    "print(array_07[1:2], '它的形状是：', array_07[1:2].shape)\n",
    "print(array_07[1:2][0], '它的形状又不同了：', array_07[1:2][0].shape)"
   ]
  },
  {
   "cell_type": "markdown",
   "metadata": {},
   "source": [
    "### 2.5.3 张量的整体操作和逐元素运算"
   ]
  },
  {
   "cell_type": "code",
   "execution_count": 6,
   "metadata": {},
   "outputs": [
    {
     "name": "stdout",
     "output_type": "stream",
     "text": [
      "[[2 3 4]\n",
      " [5 6 7]]\n"
     ]
    }
   ],
   "source": [
    "array_07 += 1\n",
    "print(array_07)"
   ]
  },
  {
   "cell_type": "code",
   "execution_count": 7,
   "metadata": {},
   "outputs": [],
   "source": [
    "# 等价于\n",
    "for i in range(array_07.shape[0]):\n",
    "    for j in range(array_07.shape[1]):\n",
    "        array_07[i, j] += 1"
   ]
  },
  {
   "cell_type": "code",
   "execution_count": 8,
   "metadata": {},
   "outputs": [
    {
     "name": "stdout",
     "output_type": "stream",
     "text": [
      "[[1.73205081 2.         2.23606798]\n",
      " [2.44948974 2.64575131 2.82842712]]\n"
     ]
    }
   ],
   "source": [
    "# 逐元素的平方根\n",
    "print(np.sqrt(array_07))"
   ]
  },
  {
   "cell_type": "markdown",
   "metadata": {},
   "source": [
    "### 2.5.4 张量的变形和转置"
   ]
  },
  {
   "cell_type": "code",
   "execution_count": 9,
   "metadata": {},
   "outputs": [
    {
     "name": "stdout",
     "output_type": "stream",
     "text": [
      "[[3 4 5]\n",
      " [6 7 8]] 形状是 (2, 3)\n",
      "[[3 4]\n",
      " [5 6]\n",
      " [7 8]] 形状是 (3, 2)\n",
      "[[3 4 5]\n",
      " [6 7 8]] 形状是 (2, 3)\n"
     ]
    }
   ],
   "source": [
    "print(array_07, \"形状是\", array_07.shape)\n",
    "print(array_07.reshape(3, 2), \"形状是\", array_07.reshape(3, 2).shape)\n",
    "\n",
    "# reshape方法不影响元素本身\n",
    "print(array_07, \"形状是\", array_07.shape)"
   ]
  },
  {
   "cell_type": "code",
   "execution_count": 10,
   "metadata": {},
   "outputs": [],
   "source": [
    "array_07 = array_07.reshape(3, 2)"
   ]
  },
  {
   "cell_type": "code",
   "execution_count": 11,
   "metadata": {},
   "outputs": [],
   "source": [
    "# 上述转变也成为矩阵转置（transpose）\n",
    "array_07 = array_07.T"
   ]
  },
  {
   "cell_type": "code",
   "execution_count": 12,
   "metadata": {},
   "outputs": [
    {
     "name": "stdout",
     "output_type": "stream",
     "text": [
      "[0 1 2 3 4 5 6 7 8 9] 形状是 (10,) 阶为 1\n",
      "[[0]\n",
      " [1]\n",
      " [2]\n",
      " [3]\n",
      " [4]\n",
      " [5]\n",
      " [6]\n",
      " [7]\n",
      " [8]\n",
      " [9]] 形状是 (10, 1) 阶为 2\n"
     ]
    }
   ],
   "source": [
    "array_06 = array_06.reshape(10)\n",
    "print(array_06, '形状是', array_06.shape, '阶为', array_06.ndim)\n",
    "\n",
    "array_06 = array_06.reshape(10, 1)\n",
    "print(array_06, '形状是', array_06.shape, '阶为', array_06.ndim)"
   ]
  },
  {
   "cell_type": "markdown",
   "metadata": {},
   "source": [
    "### 2.5.5 Python中的广播"
   ]
  },
  {
   "cell_type": "code",
   "execution_count": 13,
   "metadata": {},
   "outputs": [
    {
     "name": "stdout",
     "output_type": "stream",
     "text": [
      "array_09的形状： (1, 3)\n",
      "array_10的形状： (4, 1)\n",
      "array_12的形状： (3,)\n",
      "array_13的形状： (1,)\n",
      "array_14的形状： (1, 1) \n",
      "\n",
      "08 + 09结果： [[ 0  1  2]\n",
      " [10 11 12]\n",
      " [20 21 22]\n",
      " [30 31 32]] \n",
      "\n",
      "08 + 10结果： [[ 0  0  0]\n",
      " [11 11 11]\n",
      " [22 22 22]\n",
      " [33 33 33]] \n",
      "\n",
      "08 + 11结果： [[ 0  1  2]\n",
      " [10 11 12]\n",
      " [20 21 22]\n",
      " [30 31 32]] \n",
      "\n",
      "08 + 12结果： [[ 0  1  2]\n",
      " [10 11 12]\n",
      " [20 21 22]\n",
      " [30 31 32]] \n",
      "\n",
      "08 + 13结果： [[ 1  1  1]\n",
      " [11 11 11]\n",
      " [21 21 21]\n",
      " [31 31 31]] \n",
      "\n",
      "08 + 14结果： [[ 1  1  1]\n",
      " [11 11 11]\n",
      " [21 21 21]\n",
      " [31 31 31]] \n",
      "\n"
     ]
    }
   ],
   "source": [
    "array_08 = np.array([[0, 0, 0], [10, 10, 10], [20, 20, 20], [30, 30, 30]])\n",
    "array_09 = np.array([[0, 1, 2]])\n",
    "array_10 = np.array([[0], [1], [2], [3]])\n",
    "list_11 = [[0, 1, 2]]\n",
    "\n",
    "print('array_09的形状：', array_09.shape)\n",
    "print('array_10的形状：', array_10.shape)\n",
    "\n",
    "array_12 = array_09.reshape(3)\n",
    "print('array_12的形状：', array_12.shape)\n",
    "\n",
    "array_13 = np.array([1])\n",
    "print('array_13的形状：', array_13.shape)\n",
    "\n",
    "array_14 = array_13.reshape(1, 1)\n",
    "print('array_14的形状：', array_14.shape, '\\n')\n",
    "\n",
    "print ('08 + 09结果：', array_08 + array_09, '\\n')\n",
    "print ('08 + 10结果：', array_08 + array_10, '\\n')\n",
    "print ('08 + 11结果：', array_08 + list_11, '\\n')\n",
    "print ('08 + 12结果：', array_08 + array_12, '\\n')\n",
    "print ('08 + 13结果：', array_08 + array_13, '\\n')\n",
    "print ('08 + 14结果：', array_08 + array_14, '\\n')"
   ]
  },
  {
   "cell_type": "markdown",
   "metadata": {},
   "source": [
    "### 2.5.6 向量和矩阵的点积运算"
   ]
  },
  {
   "cell_type": "code",
   "execution_count": 15,
   "metadata": {},
   "outputs": [
    {
     "name": "stdout",
     "output_type": "stream",
     "text": [
      "vector_01的形状： (3,)\n",
      "vector_02的形状： (3, 1)\n",
      "vector_03的形状： (1,)\n",
      "vector_04的形状： (1, 3)\n",
      "01和01的点积： 14\n",
      "01和02的点积： [14]\n",
      "04和02的点积： [[14]]\n",
      "04和02的点积： (1, 1)\n",
      "01和数字的点积： [2 4 6]\n",
      "02和03的点积： [2 4 6]\n",
      "02和04的点积： [[1 2 3]\n",
      " [2 4 6]\n",
      " [3 6 9]]\n"
     ]
    }
   ],
   "source": [
    "vector_01 = np.array([1, 2, 3])\n",
    "vector_02 = np.array([[1], [2], [3]])\n",
    "vector_03 = np.array([2])\n",
    "vector_04 = vector_02.reshape(1, 3)\n",
    "print('vector_01的形状：', vector_01.shape)\n",
    "print('vector_02的形状：', vector_02.shape)\n",
    "print('vector_03的形状：', vector_03.shape)\n",
    "print('vector_04的形状：', vector_04.shape)\n",
    "print('01和01的点积：',np.dot(vector_01,vector_01))\n",
    "print('01和02的点积：',np.dot(vector_01,vector_02))\n",
    "print('04和02的点积：',np.dot(vector_04,vector_02))\n",
    "print('01和数字的点积：',np.dot(vector_01,2))\n",
    "print('02和03的点积：',np.dot(vector_02,vector_03))\n",
    "print('02和04的点积：',np.dot(vector_02,vector_04))\n",
    "# print ('01和03的点积:', np.dot(vector_01,vector_03)) # 程序会报错\n",
    "# print ('02和02的点积:', np.dot(vector_02,vector_02))"
   ]
  },
  {
   "cell_type": "code",
   "execution_count": 17,
   "metadata": {},
   "outputs": [
    {
     "name": "stdout",
     "output_type": "stream",
     "text": [
      "[[0 1 2]\n",
      " [3 4 5]]\n",
      "[[0 1]\n",
      " [2 3]\n",
      " [4 5]]\n",
      "01和02的点积： [[10 13]\n",
      " [28 40]]\n",
      "02和01的点积： [[ 3  4  5]\n",
      " [ 9 14 19]\n",
      " [15 24 33]]\n"
     ]
    }
   ],
   "source": [
    "# 矩阵点积\n",
    "matrix_01 = np.arange(0, 6).reshape(2, 3)\n",
    "matrix_02 = np.arange(0, 6).reshape(3, 2)\n",
    "print(matrix_01)\n",
    "print(matrix_02)\n",
    "print('01和02的点积：', np.dot(matrix_01, matrix_02))\n",
    "print('02和01的点积：', np.dot(matrix_02, matrix_01))\n",
    "# 失败 \n",
    "# print('01和01的点积：', np.dot(matrix_01, matrix_01))"
   ]
  }
 ],
 "metadata": {
  "interpreter": {
   "hash": "694cdcaedaf049a0984f27e4a849c1af591c6b1d7a3cf6d6f220830adff0acba"
  },
  "kernelspec": {
   "display_name": "Python 3.8.8 ('Vuean_ML')",
   "language": "python",
   "name": "python3"
  },
  "language_info": {
   "codemirror_mode": {
    "name": "ipython",
    "version": 3
   },
   "file_extension": ".py",
   "mimetype": "text/x-python",
   "name": "python",
   "nbconvert_exporter": "python",
   "pygments_lexer": "ipython3",
   "version": "3.8.8"
  },
  "orig_nbformat": 4
 },
 "nbformat": 4,
 "nbformat_minor": 2
}
