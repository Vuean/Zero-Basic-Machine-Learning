{
 "cells": [
  {
   "cell_type": "code",
   "execution_count": 49,
   "metadata": {},
   "outputs": [
    {
     "data": {
      "text/html": [
       "<div>\n",
       "<style scoped>\n",
       "    .dataframe tbody tr th:only-of-type {\n",
       "        vertical-align: middle;\n",
       "    }\n",
       "\n",
       "    .dataframe tbody tr th {\n",
       "        vertical-align: top;\n",
       "    }\n",
       "\n",
       "    .dataframe thead th {\n",
       "        text-align: right;\n",
       "    }\n",
       "</style>\n",
       "<table border=\"1\" class=\"dataframe\">\n",
       "  <thead>\n",
       "    <tr style=\"text-align: right;\">\n",
       "      <th></th>\n",
       "      <th>PassengerId</th>\n",
       "      <th>Survived</th>\n",
       "      <th>Pclass</th>\n",
       "      <th>Name</th>\n",
       "      <th>Sex</th>\n",
       "      <th>Age</th>\n",
       "      <th>SibSp</th>\n",
       "      <th>Parch</th>\n",
       "      <th>Ticket</th>\n",
       "      <th>Fare</th>\n",
       "      <th>Cabin</th>\n",
       "      <th>Embarked</th>\n",
       "    </tr>\n",
       "  </thead>\n",
       "  <tbody>\n",
       "    <tr>\n",
       "      <th>0</th>\n",
       "      <td>1</td>\n",
       "      <td>0</td>\n",
       "      <td>3</td>\n",
       "      <td>Braund, Mr. Owen Harris</td>\n",
       "      <td>male</td>\n",
       "      <td>22.0</td>\n",
       "      <td>1</td>\n",
       "      <td>0</td>\n",
       "      <td>A/5 21171</td>\n",
       "      <td>7.2500</td>\n",
       "      <td>NaN</td>\n",
       "      <td>S</td>\n",
       "    </tr>\n",
       "    <tr>\n",
       "      <th>1</th>\n",
       "      <td>2</td>\n",
       "      <td>1</td>\n",
       "      <td>1</td>\n",
       "      <td>Cumings, Mrs. John Bradley (Florence Briggs Th...</td>\n",
       "      <td>female</td>\n",
       "      <td>38.0</td>\n",
       "      <td>1</td>\n",
       "      <td>0</td>\n",
       "      <td>PC 17599</td>\n",
       "      <td>71.2833</td>\n",
       "      <td>C85</td>\n",
       "      <td>C</td>\n",
       "    </tr>\n",
       "    <tr>\n",
       "      <th>2</th>\n",
       "      <td>3</td>\n",
       "      <td>1</td>\n",
       "      <td>3</td>\n",
       "      <td>Heikkinen, Miss. Laina</td>\n",
       "      <td>female</td>\n",
       "      <td>26.0</td>\n",
       "      <td>0</td>\n",
       "      <td>0</td>\n",
       "      <td>STON/O2. 3101282</td>\n",
       "      <td>7.9250</td>\n",
       "      <td>NaN</td>\n",
       "      <td>S</td>\n",
       "    </tr>\n",
       "    <tr>\n",
       "      <th>3</th>\n",
       "      <td>4</td>\n",
       "      <td>1</td>\n",
       "      <td>1</td>\n",
       "      <td>Futrelle, Mrs. Jacques Heath (Lily May Peel)</td>\n",
       "      <td>female</td>\n",
       "      <td>35.0</td>\n",
       "      <td>1</td>\n",
       "      <td>0</td>\n",
       "      <td>113803</td>\n",
       "      <td>53.1000</td>\n",
       "      <td>C123</td>\n",
       "      <td>S</td>\n",
       "    </tr>\n",
       "    <tr>\n",
       "      <th>4</th>\n",
       "      <td>5</td>\n",
       "      <td>0</td>\n",
       "      <td>3</td>\n",
       "      <td>Allen, Mr. William Henry</td>\n",
       "      <td>male</td>\n",
       "      <td>35.0</td>\n",
       "      <td>0</td>\n",
       "      <td>0</td>\n",
       "      <td>373450</td>\n",
       "      <td>8.0500</td>\n",
       "      <td>NaN</td>\n",
       "      <td>S</td>\n",
       "    </tr>\n",
       "  </tbody>\n",
       "</table>\n",
       "</div>"
      ],
      "text/plain": [
       "   PassengerId  Survived  Pclass  \\\n",
       "0            1         0       3   \n",
       "1            2         1       1   \n",
       "2            3         1       3   \n",
       "3            4         1       1   \n",
       "4            5         0       3   \n",
       "\n",
       "                                                Name     Sex   Age  SibSp  \\\n",
       "0                            Braund, Mr. Owen Harris    male  22.0      1   \n",
       "1  Cumings, Mrs. John Bradley (Florence Briggs Th...  female  38.0      1   \n",
       "2                             Heikkinen, Miss. Laina  female  26.0      0   \n",
       "3       Futrelle, Mrs. Jacques Heath (Lily May Peel)  female  35.0      1   \n",
       "4                           Allen, Mr. William Henry    male  35.0      0   \n",
       "\n",
       "   Parch            Ticket     Fare Cabin Embarked  \n",
       "0      0         A/5 21171   7.2500   NaN        S  \n",
       "1      0          PC 17599  71.2833   C85        C  \n",
       "2      0  STON/O2. 3101282   7.9250   NaN        S  \n",
       "3      0            113803  53.1000  C123        S  \n",
       "4      0            373450   8.0500   NaN        S  "
      ]
     },
     "execution_count": 49,
     "metadata": {},
     "output_type": "execute_result"
    }
   ],
   "source": [
    "import pandas as pd\n",
    "import numpy as np\n",
    "df_titannic = pd.read_csv('./dataset/train.csv')\n",
    "df_titannic.head()"
   ]
  },
  {
   "cell_type": "code",
   "execution_count": 50,
   "metadata": {},
   "outputs": [
    {
     "data": {
      "text/plain": [
       "0    549\n",
       "1    342\n",
       "Name: Survived, dtype: int64"
      ]
     },
     "execution_count": 50,
     "metadata": {},
     "output_type": "execute_result"
    }
   ],
   "source": [
    "# 输出分类值，及各个类别数目\n",
    "df_titannic.Survived.value_counts()"
   ]
  },
  {
   "cell_type": "code",
   "execution_count": 51,
   "metadata": {},
   "outputs": [],
   "source": [
    "# 补充Age字段中的NAN值\n",
    "df_titannic['Age'] = df_titannic['Age'].fillna(0)"
   ]
  },
  {
   "cell_type": "code",
   "execution_count": 52,
   "metadata": {},
   "outputs": [
    {
     "data": {
      "text/html": [
       "<div>\n",
       "<style scoped>\n",
       "    .dataframe tbody tr th:only-of-type {\n",
       "        vertical-align: middle;\n",
       "    }\n",
       "\n",
       "    .dataframe tbody tr th {\n",
       "        vertical-align: top;\n",
       "    }\n",
       "\n",
       "    .dataframe thead th {\n",
       "        text-align: right;\n",
       "    }\n",
       "</style>\n",
       "<table border=\"1\" class=\"dataframe\">\n",
       "  <thead>\n",
       "    <tr style=\"text-align: right;\">\n",
       "      <th></th>\n",
       "      <th>PassengerId</th>\n",
       "      <th>Survived</th>\n",
       "      <th>Pclass</th>\n",
       "      <th>Name</th>\n",
       "      <th>Age</th>\n",
       "      <th>SibSp</th>\n",
       "      <th>Parch</th>\n",
       "      <th>Ticket</th>\n",
       "      <th>Fare</th>\n",
       "      <th>Cabin</th>\n",
       "      <th>Sex_female</th>\n",
       "      <th>Sex_male</th>\n",
       "      <th>Em_C</th>\n",
       "      <th>Em_Q</th>\n",
       "      <th>Em_S</th>\n",
       "    </tr>\n",
       "  </thead>\n",
       "  <tbody>\n",
       "    <tr>\n",
       "      <th>0</th>\n",
       "      <td>1</td>\n",
       "      <td>0</td>\n",
       "      <td>3</td>\n",
       "      <td>Braund, Mr. Owen Harris</td>\n",
       "      <td>22.0</td>\n",
       "      <td>1</td>\n",
       "      <td>0</td>\n",
       "      <td>A/5 21171</td>\n",
       "      <td>7.2500</td>\n",
       "      <td>NaN</td>\n",
       "      <td>0</td>\n",
       "      <td>1</td>\n",
       "      <td>0</td>\n",
       "      <td>0</td>\n",
       "      <td>1</td>\n",
       "    </tr>\n",
       "    <tr>\n",
       "      <th>1</th>\n",
       "      <td>2</td>\n",
       "      <td>1</td>\n",
       "      <td>1</td>\n",
       "      <td>Cumings, Mrs. John Bradley (Florence Briggs Th...</td>\n",
       "      <td>38.0</td>\n",
       "      <td>1</td>\n",
       "      <td>0</td>\n",
       "      <td>PC 17599</td>\n",
       "      <td>71.2833</td>\n",
       "      <td>C85</td>\n",
       "      <td>1</td>\n",
       "      <td>0</td>\n",
       "      <td>1</td>\n",
       "      <td>0</td>\n",
       "      <td>0</td>\n",
       "    </tr>\n",
       "    <tr>\n",
       "      <th>2</th>\n",
       "      <td>3</td>\n",
       "      <td>1</td>\n",
       "      <td>3</td>\n",
       "      <td>Heikkinen, Miss. Laina</td>\n",
       "      <td>26.0</td>\n",
       "      <td>0</td>\n",
       "      <td>0</td>\n",
       "      <td>STON/O2. 3101282</td>\n",
       "      <td>7.9250</td>\n",
       "      <td>NaN</td>\n",
       "      <td>1</td>\n",
       "      <td>0</td>\n",
       "      <td>0</td>\n",
       "      <td>0</td>\n",
       "      <td>1</td>\n",
       "    </tr>\n",
       "    <tr>\n",
       "      <th>3</th>\n",
       "      <td>4</td>\n",
       "      <td>1</td>\n",
       "      <td>1</td>\n",
       "      <td>Futrelle, Mrs. Jacques Heath (Lily May Peel)</td>\n",
       "      <td>35.0</td>\n",
       "      <td>1</td>\n",
       "      <td>0</td>\n",
       "      <td>113803</td>\n",
       "      <td>53.1000</td>\n",
       "      <td>C123</td>\n",
       "      <td>1</td>\n",
       "      <td>0</td>\n",
       "      <td>0</td>\n",
       "      <td>0</td>\n",
       "      <td>1</td>\n",
       "    </tr>\n",
       "    <tr>\n",
       "      <th>4</th>\n",
       "      <td>5</td>\n",
       "      <td>0</td>\n",
       "      <td>3</td>\n",
       "      <td>Allen, Mr. William Henry</td>\n",
       "      <td>35.0</td>\n",
       "      <td>0</td>\n",
       "      <td>0</td>\n",
       "      <td>373450</td>\n",
       "      <td>8.0500</td>\n",
       "      <td>NaN</td>\n",
       "      <td>0</td>\n",
       "      <td>1</td>\n",
       "      <td>0</td>\n",
       "      <td>0</td>\n",
       "      <td>1</td>\n",
       "    </tr>\n",
       "  </tbody>\n",
       "</table>\n",
       "</div>"
      ],
      "text/plain": [
       "   PassengerId  Survived  Pclass  \\\n",
       "0            1         0       3   \n",
       "1            2         1       1   \n",
       "2            3         1       3   \n",
       "3            4         1       1   \n",
       "4            5         0       3   \n",
       "\n",
       "                                                Name   Age  SibSp  Parch  \\\n",
       "0                            Braund, Mr. Owen Harris  22.0      1      0   \n",
       "1  Cumings, Mrs. John Bradley (Florence Briggs Th...  38.0      1      0   \n",
       "2                             Heikkinen, Miss. Laina  26.0      0      0   \n",
       "3       Futrelle, Mrs. Jacques Heath (Lily May Peel)  35.0      1      0   \n",
       "4                           Allen, Mr. William Henry  35.0      0      0   \n",
       "\n",
       "             Ticket     Fare Cabin  Sex_female  Sex_male  Em_C  Em_Q  Em_S  \n",
       "0         A/5 21171   7.2500   NaN           0         1     0     0     1  \n",
       "1          PC 17599  71.2833   C85           1         0     1     0     0  \n",
       "2  STON/O2. 3101282   7.9250   NaN           1         0     0     0     1  \n",
       "3            113803  53.1000  C123           1         0     0     0     1  \n",
       "4            373450   8.0500   NaN           0         1     0     0     1  "
      ]
     },
     "execution_count": 52,
     "metadata": {},
     "output_type": "execute_result"
    }
   ],
   "source": [
    "# 把类别型变量转换为哑变量\n",
    "a = pd.get_dummies(df_titannic['Sex'], prefix=\"Sex\")\n",
    "b = pd.get_dummies(df_titannic['Embarked'], prefix=\"Em\")    # 登船口\n",
    "# 把哑变量添加进dataframe\n",
    "frames = [df_titannic, a, b]\n",
    "df_titannic = pd.concat(frames, axis = 1)\n",
    "df_titannic = df_titannic.drop(columns=['Sex', 'Embarked'])\n",
    "df_titannic.head()"
   ]
  },
  {
   "cell_type": "code",
   "execution_count": 53,
   "metadata": {},
   "outputs": [],
   "source": [
    "X = df_titannic.drop(['Survived', 'Name', 'Ticket', 'Cabin'], axis=1)\n",
    "y = df_titannic.Survived.values\n",
    "y = y.reshape(-1, 1)"
   ]
  },
  {
   "cell_type": "code",
   "execution_count": 54,
   "metadata": {},
   "outputs": [
    {
     "data": {
      "text/plain": [
       "(891, 11)"
      ]
     },
     "execution_count": 54,
     "metadata": {},
     "output_type": "execute_result"
    }
   ],
   "source": [
    "X.shape"
   ]
  },
  {
   "cell_type": "code",
   "execution_count": 55,
   "metadata": {},
   "outputs": [
    {
     "data": {
      "text/plain": [
       "(891, 1)"
      ]
     },
     "execution_count": 55,
     "metadata": {},
     "output_type": "execute_result"
    }
   ],
   "source": [
    "y.shape"
   ]
  },
  {
   "cell_type": "code",
   "execution_count": 56,
   "metadata": {},
   "outputs": [],
   "source": [
    "from sklearn.model_selection import train_test_split\n",
    "X_train, X_test, y_train, y_test = train_test_split(X, y, test_size=0.2, random_state=0)"
   ]
  },
  {
   "cell_type": "code",
   "execution_count": 57,
   "metadata": {},
   "outputs": [],
   "source": [
    "# 导入数据缩放器\n",
    "from sklearn.preprocessing import StandardScaler\n",
    "scaler = StandardScaler()\n",
    "X_train = scaler.fit_transform(X_train)# 特征归一化 训练集fit_transform\n",
    "X_test = scaler.transform(X_test)# 特征归一化 测试集transform"
   ]
  },
  {
   "cell_type": "code",
   "execution_count": 58,
   "metadata": {},
   "outputs": [
    {
     "name": "stdout",
     "output_type": "stream",
     "text": [
      "Sklearn逻辑回归测试准确率：81.56%\n"
     ]
    },
    {
     "name": "stderr",
     "output_type": "stream",
     "text": [
      "D:\\Anaconda3\\envs\\tensorflow\\lib\\site-packages\\sklearn\\utils\\validation.py:993: DataConversionWarning: A column-vector y was passed when a 1d array was expected. Please change the shape of y to (n_samples, ), for example using ravel().\n",
      "  y = column_or_1d(y, warn=True)\n"
     ]
    }
   ],
   "source": [
    "from sklearn.linear_model import LogisticRegression\n",
    "lr = LogisticRegression()\n",
    "lr.fit(X_train, y_train)\n",
    "print(\"Sklearn逻辑回归测试准确率：{:.2f}%\".format(lr.score(X_test, y_test)*100))"
   ]
  },
  {
   "cell_type": "code",
   "execution_count": 59,
   "metadata": {},
   "outputs": [],
   "source": [
    "# 首先定义一个sigmoid函数，输入Z，返回y'\n",
    "def sigmoid(z):\n",
    "    y_hat = 1 / (1 + np.exp(-z))\n",
    "    return y_hat"
   ]
  },
  {
   "cell_type": "code",
   "execution_count": 60,
   "metadata": {},
   "outputs": [],
   "source": [
    "# 然后定义损失函数\n",
    "def cost_function(X, y, w, b):\n",
    "    # sigmoid逻辑函数+线性函数得到y'\n",
    "    y_hat = sigmoid(np.dot(X, w) + b)\n",
    "    # print(X.shape, w.shape)\n",
    "    loss = np.abs((y*np.log(y_hat) + (1-y)*np.log(1-y_hat)))\n",
    "    # cost = np.sum(loss) / X.shape[0]  # 返回整个数据集平均损失\n",
    "    cost = np.mean(loss)    # 返回整个数据集平均损失\n",
    "    return cost"
   ]
  },
  {
   "cell_type": "code",
   "execution_count": 61,
   "metadata": {},
   "outputs": [],
   "source": [
    "#定义逻辑回归梯度下降函数\n",
    "def gradient_descent(X, y, w, b, lr, iter):\n",
    "    l_history = np.zeros(iter)\n",
    "    w_history = np.zeros((iter, w.shape[0], w.shape[1]))\n",
    "    b_history = np.zeros(iter)\n",
    "    for i in range(iter):\n",
    "        y_hat = sigmoid(np.dot(X, w)+b)\n",
    "        loss = (y*np.log(y_hat) + (1-y)*np.log(1-y_hat))\n",
    "        derivative_w = np.dot(X.T, (y_hat-y)) / X.shape[0]  # 给权重向量求导\n",
    "        derivative_b = np.sum(y_hat-y) / X.shape[0]\n",
    "        w = w - lr * derivative_w\n",
    "        b = b - lr * derivative_b\n",
    "        l_history[i] = cost_function(X, y, w, b)\n",
    "        print (\"轮次\", i+1 , \"当前轮训练集损失：\",l_history[i])\n",
    "        w_history[i] = w\n",
    "        b_history[i] = b\n",
    "    return l_history, w_history, b_history"
   ]
  },
  {
   "cell_type": "code",
   "execution_count": 62,
   "metadata": {},
   "outputs": [],
   "source": [
    "# 定义预测函数\n",
    "def predict(X, w, b):\n",
    "    z = np.dot(X, w) + b\n",
    "    y_hat = sigmoid(z)\n",
    "    y_pred = np.zeros((y_hat.shape[0], 1))\n",
    "    for i in range(y_hat.shape[0]):\n",
    "        if y_hat[i, 0] < 0.5:\n",
    "            y_pred[i, 0] = 0\n",
    "        else:\n",
    "            y_pred[i, 0] = 1\n",
    "    return y_pred\n"
   ]
  },
  {
   "cell_type": "code",
   "execution_count": 63,
   "metadata": {},
   "outputs": [],
   "source": [
    "# 定义逻辑回归模型\n",
    "def logistic_regression(X, y, w, b, lr, iter):\n",
    "    l_history, w_history, b_history = gradient_descent(X, y, w, b, lr, iter)\n",
    "    print(\"训练最终损失:\", l_history[-1])\n",
    "    y_pred = predict(X, w_history[-1], b_history[-1])\n",
    "    training_acc = 100 - np.mean(np.abs(y_pred - y_train)) * 100\n",
    "    print(\"逻辑回归训练准确率: {:.2f}%\".format(training_acc))\n",
    "    return l_history, w_history, b_history"
   ]
  },
  {
   "cell_type": "code",
   "execution_count": 64,
   "metadata": {},
   "outputs": [],
   "source": [
    "#初始化参数\n",
    "dimension = X.shape[1] # 这里的维度 len(X)是矩阵的行的数，维度是列的数目\n",
    "weight = np.full((dimension,1),0.1) # 权重向量，向量一般是1D，但这里实际上创建了2D张量\n",
    "bias = 0 # 偏置值\n",
    "#初始化超参数\n",
    "alpha = 1 # 学习速率\n",
    "iterations = 100 # 迭代次数"
   ]
  },
  {
   "cell_type": "code",
   "execution_count": 65,
   "metadata": {},
   "outputs": [
    {
     "name": "stdout",
     "output_type": "stream",
     "text": [
      "轮次 1 当前轮训练集损失： 0.5600225146633998\n",
      "轮次 2 当前轮训练集损失： 0.5169832564026973\n",
      "轮次 3 当前轮训练集损失： 0.4976917961280204\n",
      "轮次 4 当前轮训练集损失： 0.4869699281537623\n",
      "轮次 5 当前轮训练集损失： 0.4802123022762601\n",
      "轮次 6 当前轮训练集损失： 0.47561088043030075\n",
      "轮次 7 当前轮训练集损失： 0.4723160810510354\n",
      "轮次 8 当前轮训练集损失： 0.46987236934678794\n",
      "轮次 9 当前轮训练集损失： 0.46801119199985647\n",
      "轮次 10 当前轮训练集损失： 0.4665632956954959\n",
      "轮次 11 当前轮训练集损失： 0.465416824438472\n",
      "轮次 12 当前轮训练集损失： 0.4644952154928066\n",
      "轮次 13 当前轮训练集损失： 0.4637446108867976\n",
      "轮次 14 当前轮训练集损失： 0.4631262637788874\n",
      "轮次 15 当前轮训练集损失： 0.46261175641758145\n",
      "轮次 16 当前轮训练集损失： 0.4621798879501727\n",
      "轮次 17 当前轮训练集损失： 0.4618145954904659\n",
      "轮次 18 当前轮训练集损失： 0.4615035352569071\n",
      "轮次 19 当前轮训练集损失： 0.4612370962881027\n",
      "轮次 20 当前轮训练集损失： 0.46100770370692434\n",
      "轮次 21 当前轮训练集损失： 0.46080931932883007\n",
      "轮次 22 当前轮训练集损失： 0.46063707892043904\n",
      "轮次 23 当前轮训练集损失： 0.4604870254351201\n",
      "轮次 24 当前轮训练集损失： 0.46035591053759467\n",
      "轮次 25 当前轮训练集损失： 0.4602410453023029\n",
      "轮次 26 当前轮训练集损失： 0.46014018671890766\n",
      "轮次 27 当前轮训练集损失： 0.4600514505474073\n",
      "轮次 28 当前轮训练集损失： 0.45997324375755877\n",
      "轮次 29 当前轮训练集损失： 0.4599042116632838\n",
      "轮次 30 当前轮训练集损失： 0.45984319618422925\n",
      "轮次 31 当前轮训练集损失： 0.4597892026070634\n",
      "轮次 32 当前轮训练集损失： 0.4597413728947407\n",
      "轮次 33 当前轮训练集损失： 0.4596989640817901\n",
      "轮次 34 当前轮训练集损失： 0.4596613306518298\n",
      "轮次 35 当前轮训练集损失： 0.45962791005749604\n",
      "轮次 36 当前轮训练集损失： 0.4595982107390734\n",
      "轮次 37 当前轮训练集损失： 0.4595718021448292\n",
      "轮次 38 当前轮训练集损失： 0.45954830636662025\n",
      "轮次 39 当前轮训练集损失： 0.4595273910882107\n",
      "轮次 40 当前轮训练集损失： 0.4595087636077786\n",
      "轮次 41 当前轮训练集损失： 0.4594921657453014\n",
      "轮次 42 当前轮训练集损失： 0.4594773694835617\n",
      "轮次 43 当前轮训练集损失： 0.45946417322110783\n",
      "轮次 44 当前轮训练集损失： 0.45945239853867487\n",
      "轮次 45 当前轮训练集损失： 0.4594418873988077\n",
      "轮次 46 当前轮训练集损失： 0.45943249971287436\n",
      "轮次 47 当前轮训练集损失： 0.4594241112211699\n",
      "轮次 48 当前轮训练集损失： 0.4594166116410407\n",
      "轮次 49 当前轮训练集损失： 0.4594099030453977\n",
      "轮次 50 当前轮训练集损失： 0.4594038984400312\n",
      "轮次 51 当前轮训练集损失： 0.45939852051306396\n",
      "轮次 52 当前轮训练集损失： 0.45939370053392775\n",
      "轮次 53 当前轮训练集损失： 0.45938937738259006\n",
      "轮次 54 当前轮训练集损失： 0.4593854966925357\n",
      "轮次 55 当前轮训练集损失： 0.45938201009332325\n",
      "轮次 56 当前轮训练集损失： 0.4593788745404862\n",
      "轮次 57 当前轮训练集损失： 0.45937605172218915\n",
      "轮次 58 当前轮训练集损失： 0.459373507533446\n",
      "轮次 59 当前轮训练集损失： 0.45937121160989314\n",
      "轮次 60 当前轮训练集损失： 0.4593691369141254\n",
      "轮次 61 当前轮训练集损失： 0.4593672593684798\n",
      "轮次 62 当前轮训练集损失： 0.4593655575289005\n",
      "轮次 63 当前轮训练集损失： 0.4593640122951745\n",
      "轮次 64 当前轮训练集损失： 0.459362606653388\n",
      "轮次 65 当前轮训练集损失： 0.45936132544695235\n",
      "轮次 66 当前轮训练集损失： 0.4593601551729721\n",
      "轮次 67 当前轮训练集损失： 0.4593590838011068\n",
      "轮次 68 当前轮训练集损失： 0.4593581006124085\n",
      "轮次 69 当前轮训练集损失： 0.4593571960559041\n",
      "轮次 70 当前轮训练集损失： 0.4593563616209467\n",
      "轮次 71 当前轮训练集损失： 0.4593555897235863\n",
      "轮次 72 当前轮训练集损失： 0.45935487360540733\n",
      "轮次 73 当前轮训练集损失： 0.4593542072434517\n",
      "轮次 74 当前轮训练集损失： 0.4593535852700086\n",
      "轮次 75 当前轮训练集损失： 0.4593530029011789\n",
      "轮次 76 当前轮训练集损失： 0.4593524558732533\n",
      "轮次 77 当前轮训练集损失： 0.45935194038604105\n",
      "轮次 78 当前轮训练集损失： 0.4593514530523901\n",
      "轮次 79 当前轮训练集损失： 0.4593509908532176\n",
      "轮次 80 当前轮训练集损失： 0.459350551097446\n",
      "轮次 81 当前轮训练集损失： 0.459350131386311\n",
      "轮次 82 当前轮训练集损失： 0.45934972958155934\n",
      "轮次 83 当前轮训练集损失： 0.45934934377711373\n",
      "轮次 84 当前轮训练集损失： 0.45934897227382415\n",
      "轮次 85 当前轮训练集损失： 0.45934861355697004\n",
      "轮次 86 当前轮训练集损失： 0.459348266276212\n",
      "轮次 87 当前轮训练集损失： 0.45934792922772594\n",
      "轮次 88 当前轮训练集损失： 0.459347601338282\n",
      "轮次 89 当前轮训练集损失： 0.4593472816510553\n",
      "轮次 90 当前轮训练集损失： 0.459346969312981\n",
      "轮次 91 当前轮训练集损失： 0.45934666356348436\n",
      "轮次 92 当前轮训练集损失： 0.4593463637244359\n",
      "轮次 93 当前轮训练集损失： 0.4593460691911997\n",
      "轮次 94 当前轮训练集损失： 0.45934577942465404\n",
      "轮次 95 当前轮训练集损失： 0.4593454939440795\n",
      "轮次 96 当前轮训练集损失： 0.45934521232081954\n",
      "轮次 97 当前轮训练集损失： 0.4593449341726309\n",
      "轮次 98 当前轮训练集损失： 0.45934465915864675\n",
      "轮次 99 当前轮训练集损失： 0.45934438697488694\n",
      "轮次 100 当前轮训练集损失： 0.45934411735025676\n",
      "训练最终损失: 0.45934411735025676\n",
      "逻辑回归训练准确率: 78.79%\n"
     ]
    }
   ],
   "source": [
    "loss_history, weight_history, bias_history = logistic_regression(X_train, y_train, weight, bias, alpha, iterations)"
   ]
  },
  {
   "cell_type": "code",
   "execution_count": 66,
   "metadata": {},
   "outputs": [
    {
     "name": "stdout",
     "output_type": "stream",
     "text": [
      "逻辑回归测试准确率: 81.56%\n"
     ]
    }
   ],
   "source": [
    "y_pred = predict(X_test, weight_history[-1], bias_history[-1])\n",
    "testing_acc = 100 - np.mean(np.abs(y_pred - y_test)) * 100\n",
    "print(\"逻辑回归测试准确率: {:.2f}%\".format(testing_acc))"
   ]
  },
  {
   "cell_type": "code",
   "execution_count": 67,
   "metadata": {},
   "outputs": [
    {
     "data": {
      "image/png": "[encoded data removed]",
      "text/plain": [
       "<Figure size 432x288 with 1 Axes>"
      ]
     },
     "metadata": {
      "needs_background": "light"
     },
     "output_type": "display_data"
    }
   ],
   "source": [
    "import matplotlib.pyplot as plt\n",
    "loss_history_test = np.zeros(iterations)\n",
    "for i in range(iterations):\n",
    "    loss_history_test[i] = cost_function(X_test, y_test, weight_history[i], bias_history[i])\n",
    "index = np.arange(0, iterations, 1)\n",
    "plt.plot(index, loss_history, c='blue', linestyle='solid')\n",
    "plt.plot(index, loss_history_test, c='red', linestyle='dashed')\n",
    "plt.legend([\"Training Loss\", \"Test Loss\"])\n",
    "plt.xlabel(\"Number of Iteration\")\n",
    "plt.ylabel(\"Cost\")\n",
    "plt.show()"
   ]
  }
 ],
 "metadata": {
  "interpreter": {
   "hash": "dfcfa9720f164a03024b47cc781cb1ee8e12b921073a994efcfa9b62656775a7"
  },
  "kernelspec": {
   "display_name": "Python 3.9.7 ('tensorflow')",
   "language": "python",
   "name": "python3"
  },
  "language_info": {
   "codemirror_mode": {
    "name": "ipython",
    "version": 3
   },
   "file_extension": ".py",
   "mimetype": "text/x-python",
   "name": "python",
   "nbconvert_exporter": "python",
   "pygments_lexer": "ipython3",
   "version": "3.9.7"
  },
  "orig_nbformat": 4
 },
 "nbformat": 4,
 "nbformat_minor": 2
}
