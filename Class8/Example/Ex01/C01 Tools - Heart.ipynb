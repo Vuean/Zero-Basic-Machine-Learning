{
 "cells": [
  {
   "cell_type": "markdown",
   "metadata": {},
   "source": [
    "## 8.1 KNN最邻近"
   ]
  },
  {
   "cell_type": "code",
   "execution_count": 15,
   "metadata": {},
   "outputs": [
    {
     "data": {
      "text/html": [
       "<div>\n",
       "<style scoped>\n",
       "    .dataframe tbody tr th:only-of-type {\n",
       "        vertical-align: middle;\n",
       "    }\n",
       "\n",
       "    .dataframe tbody tr th {\n",
       "        vertical-align: top;\n",
       "    }\n",
       "\n",
       "    .dataframe thead th {\n",
       "        text-align: right;\n",
       "    }\n",
       "</style>\n",
       "<table border=\"1\" class=\"dataframe\">\n",
       "  <thead>\n",
       "    <tr style=\"text-align: right;\">\n",
       "      <th></th>\n",
       "      <th>age</th>\n",
       "      <th>sex</th>\n",
       "      <th>cp</th>\n",
       "      <th>trestbps</th>\n",
       "      <th>chol</th>\n",
       "      <th>fbs</th>\n",
       "      <th>restecg</th>\n",
       "      <th>thalach</th>\n",
       "      <th>exang</th>\n",
       "      <th>oldpeak</th>\n",
       "      <th>slope</th>\n",
       "      <th>ca</th>\n",
       "      <th>thal</th>\n",
       "      <th>target</th>\n",
       "    </tr>\n",
       "  </thead>\n",
       "  <tbody>\n",
       "    <tr>\n",
       "      <th>0</th>\n",
       "      <td>63</td>\n",
       "      <td>1</td>\n",
       "      <td>3</td>\n",
       "      <td>145</td>\n",
       "      <td>233</td>\n",
       "      <td>1</td>\n",
       "      <td>0</td>\n",
       "      <td>150</td>\n",
       "      <td>0</td>\n",
       "      <td>2.3</td>\n",
       "      <td>0</td>\n",
       "      <td>0</td>\n",
       "      <td>1</td>\n",
       "      <td>1</td>\n",
       "    </tr>\n",
       "    <tr>\n",
       "      <th>1</th>\n",
       "      <td>37</td>\n",
       "      <td>1</td>\n",
       "      <td>2</td>\n",
       "      <td>130</td>\n",
       "      <td>250</td>\n",
       "      <td>0</td>\n",
       "      <td>1</td>\n",
       "      <td>187</td>\n",
       "      <td>0</td>\n",
       "      <td>3.5</td>\n",
       "      <td>0</td>\n",
       "      <td>0</td>\n",
       "      <td>2</td>\n",
       "      <td>1</td>\n",
       "    </tr>\n",
       "    <tr>\n",
       "      <th>2</th>\n",
       "      <td>41</td>\n",
       "      <td>0</td>\n",
       "      <td>1</td>\n",
       "      <td>130</td>\n",
       "      <td>204</td>\n",
       "      <td>0</td>\n",
       "      <td>0</td>\n",
       "      <td>172</td>\n",
       "      <td>0</td>\n",
       "      <td>1.4</td>\n",
       "      <td>2</td>\n",
       "      <td>0</td>\n",
       "      <td>2</td>\n",
       "      <td>1</td>\n",
       "    </tr>\n",
       "    <tr>\n",
       "      <th>3</th>\n",
       "      <td>56</td>\n",
       "      <td>1</td>\n",
       "      <td>1</td>\n",
       "      <td>120</td>\n",
       "      <td>236</td>\n",
       "      <td>0</td>\n",
       "      <td>1</td>\n",
       "      <td>178</td>\n",
       "      <td>0</td>\n",
       "      <td>0.8</td>\n",
       "      <td>2</td>\n",
       "      <td>0</td>\n",
       "      <td>2</td>\n",
       "      <td>1</td>\n",
       "    </tr>\n",
       "    <tr>\n",
       "      <th>4</th>\n",
       "      <td>57</td>\n",
       "      <td>0</td>\n",
       "      <td>0</td>\n",
       "      <td>120</td>\n",
       "      <td>354</td>\n",
       "      <td>0</td>\n",
       "      <td>1</td>\n",
       "      <td>163</td>\n",
       "      <td>1</td>\n",
       "      <td>0.6</td>\n",
       "      <td>2</td>\n",
       "      <td>0</td>\n",
       "      <td>2</td>\n",
       "      <td>1</td>\n",
       "    </tr>\n",
       "  </tbody>\n",
       "</table>\n",
       "</div>"
      ],
      "text/plain": [
       "   age  sex  cp  trestbps  chol  fbs  restecg  thalach  exang  oldpeak  slope  \\\n",
       "0   63    1   3       145   233    1        0      150      0      2.3      0   \n",
       "1   37    1   2       130   250    0        1      187      0      3.5      0   \n",
       "2   41    0   1       130   204    0        0      172      0      1.4      2   \n",
       "3   56    1   1       120   236    0        1      178      0      0.8      2   \n",
       "4   57    0   0       120   354    0        1      163      1      0.6      2   \n",
       "\n",
       "   ca  thal  target  \n",
       "0   0     1       1  \n",
       "1   0     2       1  \n",
       "2   0     2       1  \n",
       "3   0     2       1  \n",
       "4   0     2       1  "
      ]
     },
     "execution_count": 15,
     "metadata": {},
     "output_type": "execute_result"
    }
   ],
   "source": [
    "import numpy as np # 导入NumPy数学工具箱\n",
    "import pandas as pd # 导入Pandas数据处理工具箱\n",
    "df_heart = pd.read_csv(\"./dataset/heart.csv\")  # 读取文件\n",
    "df_heart.head() # 显示前5行数据"
   ]
  },
  {
   "cell_type": "code",
   "execution_count": 16,
   "metadata": {},
   "outputs": [
    {
     "data": {
      "image/png": "[encoded data removed]",
      "text/plain": [
       "<Figure size 432x288 with 1 Axes>"
      ]
     },
     "metadata": {
      "needs_background": "light"
     },
     "output_type": "display_data"
    }
   ],
   "source": [
    "import matplotlib.pyplot as plt\n",
    "import seaborn as sns #导入seaborn画图工具箱\n",
    "sns.countplot(x=\"target\", data=df_heart, palette=\"bwr\")\n",
    "plt.show()"
   ]
  },
  {
   "cell_type": "code",
   "execution_count": 17,
   "metadata": {},
   "outputs": [
    {
     "data": {
      "text/html": [
       "<div>\n",
       "<style scoped>\n",
       "    .dataframe tbody tr th:only-of-type {\n",
       "        vertical-align: middle;\n",
       "    }\n",
       "\n",
       "    .dataframe tbody tr th {\n",
       "        vertical-align: top;\n",
       "    }\n",
       "\n",
       "    .dataframe thead th {\n",
       "        text-align: right;\n",
       "    }\n",
       "</style>\n",
       "<table border=\"1\" class=\"dataframe\">\n",
       "  <thead>\n",
       "    <tr style=\"text-align: right;\">\n",
       "      <th></th>\n",
       "      <th>age</th>\n",
       "      <th>sex</th>\n",
       "      <th>trestbps</th>\n",
       "      <th>chol</th>\n",
       "      <th>fbs</th>\n",
       "      <th>restecg</th>\n",
       "      <th>thalach</th>\n",
       "      <th>exang</th>\n",
       "      <th>oldpeak</th>\n",
       "      <th>ca</th>\n",
       "      <th>...</th>\n",
       "      <th>cp_1</th>\n",
       "      <th>cp_2</th>\n",
       "      <th>cp_3</th>\n",
       "      <th>thal_0</th>\n",
       "      <th>thal_1</th>\n",
       "      <th>thal_2</th>\n",
       "      <th>thal_3</th>\n",
       "      <th>slope_0</th>\n",
       "      <th>slope_1</th>\n",
       "      <th>slope_2</th>\n",
       "    </tr>\n",
       "  </thead>\n",
       "  <tbody>\n",
       "    <tr>\n",
       "      <th>0</th>\n",
       "      <td>63</td>\n",
       "      <td>1</td>\n",
       "      <td>145</td>\n",
       "      <td>233</td>\n",
       "      <td>1</td>\n",
       "      <td>0</td>\n",
       "      <td>150</td>\n",
       "      <td>0</td>\n",
       "      <td>2.3</td>\n",
       "      <td>0</td>\n",
       "      <td>...</td>\n",
       "      <td>0</td>\n",
       "      <td>0</td>\n",
       "      <td>1</td>\n",
       "      <td>0</td>\n",
       "      <td>1</td>\n",
       "      <td>0</td>\n",
       "      <td>0</td>\n",
       "      <td>1</td>\n",
       "      <td>0</td>\n",
       "      <td>0</td>\n",
       "    </tr>\n",
       "    <tr>\n",
       "      <th>1</th>\n",
       "      <td>37</td>\n",
       "      <td>1</td>\n",
       "      <td>130</td>\n",
       "      <td>250</td>\n",
       "      <td>0</td>\n",
       "      <td>1</td>\n",
       "      <td>187</td>\n",
       "      <td>0</td>\n",
       "      <td>3.5</td>\n",
       "      <td>0</td>\n",
       "      <td>...</td>\n",
       "      <td>0</td>\n",
       "      <td>1</td>\n",
       "      <td>0</td>\n",
       "      <td>0</td>\n",
       "      <td>0</td>\n",
       "      <td>1</td>\n",
       "      <td>0</td>\n",
       "      <td>1</td>\n",
       "      <td>0</td>\n",
       "      <td>0</td>\n",
       "    </tr>\n",
       "    <tr>\n",
       "      <th>2</th>\n",
       "      <td>41</td>\n",
       "      <td>0</td>\n",
       "      <td>130</td>\n",
       "      <td>204</td>\n",
       "      <td>0</td>\n",
       "      <td>0</td>\n",
       "      <td>172</td>\n",
       "      <td>0</td>\n",
       "      <td>1.4</td>\n",
       "      <td>0</td>\n",
       "      <td>...</td>\n",
       "      <td>1</td>\n",
       "      <td>0</td>\n",
       "      <td>0</td>\n",
       "      <td>0</td>\n",
       "      <td>0</td>\n",
       "      <td>1</td>\n",
       "      <td>0</td>\n",
       "      <td>0</td>\n",
       "      <td>0</td>\n",
       "      <td>1</td>\n",
       "    </tr>\n",
       "    <tr>\n",
       "      <th>3</th>\n",
       "      <td>56</td>\n",
       "      <td>1</td>\n",
       "      <td>120</td>\n",
       "      <td>236</td>\n",
       "      <td>0</td>\n",
       "      <td>1</td>\n",
       "      <td>178</td>\n",
       "      <td>0</td>\n",
       "      <td>0.8</td>\n",
       "      <td>0</td>\n",
       "      <td>...</td>\n",
       "      <td>1</td>\n",
       "      <td>0</td>\n",
       "      <td>0</td>\n",
       "      <td>0</td>\n",
       "      <td>0</td>\n",
       "      <td>1</td>\n",
       "      <td>0</td>\n",
       "      <td>0</td>\n",
       "      <td>0</td>\n",
       "      <td>1</td>\n",
       "    </tr>\n",
       "    <tr>\n",
       "      <th>4</th>\n",
       "      <td>57</td>\n",
       "      <td>0</td>\n",
       "      <td>120</td>\n",
       "      <td>354</td>\n",
       "      <td>0</td>\n",
       "      <td>1</td>\n",
       "      <td>163</td>\n",
       "      <td>1</td>\n",
       "      <td>0.6</td>\n",
       "      <td>0</td>\n",
       "      <td>...</td>\n",
       "      <td>0</td>\n",
       "      <td>0</td>\n",
       "      <td>0</td>\n",
       "      <td>0</td>\n",
       "      <td>0</td>\n",
       "      <td>1</td>\n",
       "      <td>0</td>\n",
       "      <td>0</td>\n",
       "      <td>0</td>\n",
       "      <td>1</td>\n",
       "    </tr>\n",
       "  </tbody>\n",
       "</table>\n",
       "<p>5 rows × 22 columns</p>\n",
       "</div>"
      ],
      "text/plain": [
       "   age  sex  trestbps  chol  fbs  restecg  thalach  exang  oldpeak  ca  ...  \\\n",
       "0   63    1       145   233    1        0      150      0      2.3   0  ...   \n",
       "1   37    1       130   250    0        1      187      0      3.5   0  ...   \n",
       "2   41    0       130   204    0        0      172      0      1.4   0  ...   \n",
       "3   56    1       120   236    0        1      178      0      0.8   0  ...   \n",
       "4   57    0       120   354    0        1      163      1      0.6   0  ...   \n",
       "\n",
       "   cp_1  cp_2  cp_3  thal_0  thal_1  thal_2  thal_3  slope_0  slope_1  slope_2  \n",
       "0     0     0     1       0       1       0       0        1        0        0  \n",
       "1     0     1     0       0       0       1       0        1        0        0  \n",
       "2     1     0     0       0       0       1       0        0        0        1  \n",
       "3     1     0     0       0       0       1       0        0        0        1  \n",
       "4     0     0     0       0       0       1       0        0        0        1  \n",
       "\n",
       "[5 rows x 22 columns]"
      ]
     },
     "execution_count": 17,
     "metadata": {},
     "output_type": "execute_result"
    }
   ],
   "source": [
    "# 将某些特征转换为数值类型的哑变量\n",
    "a = pd.get_dummies(df_heart['cp'], prefix = \"cp\")\n",
    "b = pd.get_dummies(df_heart['thal'], prefix = \"thal\")\n",
    "c = pd.get_dummies(df_heart['slope'], prefix = \"slope\")\n",
    "frames = [df_heart, a, b, c]\n",
    "df_heart = pd.concat(frames, axis = 1)\n",
    "df_heart.head()\n",
    "df_heart = df_heart.drop(columns = ['cp', 'thal', 'slope'])\n",
    "df_heart.head()"
   ]
  },
  {
   "cell_type": "code",
   "execution_count": 18,
   "metadata": {},
   "outputs": [],
   "source": [
    "# 构建特征和标签集\n",
    "y = df_heart.target.values\n",
    "X = df_heart.drop(['target'], axis = 1)"
   ]
  },
  {
   "cell_type": "code",
   "execution_count": 19,
   "metadata": {},
   "outputs": [],
   "source": [
    "from sklearn.model_selection import train_test_split # 拆分训练集和测试集\n",
    "X_train, X_test, y_train, y_test = train_test_split(X,y,test_size = 0.2,random_state=0)"
   ]
  },
  {
   "cell_type": "code",
   "execution_count": 20,
   "metadata": {},
   "outputs": [],
   "source": [
    "# 进行特征缩放\n",
    "from sklearn import preprocessing\n",
    "scaler = preprocessing.MinMaxScaler()\n",
    "X_train = scaler.fit_transform(X_train)\n",
    "X_test = scaler.transform(X_test)"
   ]
  },
  {
   "cell_type": "code",
   "execution_count": 21,
   "metadata": {},
   "outputs": [
    {
     "name": "stdout",
     "output_type": "stream",
     "text": [
      "5NN 预测准确率: 85.25%\n",
      "5NN 预测F1分数: 86.15%\n",
      "kNN 混淆矩阵:\n",
      " [[24  6]\n",
      " [ 3 28]]\n"
     ]
    }
   ],
   "source": [
    "from sklearn.neighbors import KNeighborsClassifier # 导入kNN算法\n",
    "k = 5 # 设定初始K值为5\n",
    "kNN = KNeighborsClassifier(n_neighbors = k)  # kNN模型\n",
    "kNN.fit(X_train, y_train) # 拟合kNN模型\n",
    "y_pred = kNN.predict(X_test) # 预测心脏病结果\n",
    "from sklearn.metrics import (accuracy_score, f1_score, average_precision_score, confusion_matrix) # 导入评估标准\n",
    "print(\"{}NN 预测准确率: {:.2f}%\".format(k, kNN.score(X_test, y_test)*100))\n",
    "print(\"{}NN 预测F1分数: {:.2f}%\".format(k, f1_score(y_test, y_pred)*100))\n",
    "print('kNN 混淆矩阵:\\n', confusion_matrix(y_pred, y_test))"
   ]
  },
  {
   "cell_type": "code",
   "execution_count": 22,
   "metadata": {},
   "outputs": [
    {
     "data": {
      "image/png": "[encoded data removed]",
      "text/plain": [
       "<Figure size 432x288 with 1 Axes>"
      ]
     },
     "metadata": {
      "needs_background": "light"
     },
     "output_type": "display_data"
    },
    {
     "name": "stdout",
     "output_type": "stream",
     "text": [
      "Maximum kNN Score is 89.86%\n"
     ]
    }
   ],
   "source": [
    "# 寻找最佳K值\n",
    "f1_score_list = []\n",
    "acc_score_list = []\n",
    "for i in range(1,15):\n",
    "    kNN = KNeighborsClassifier(n_neighbors = i)  # n_neighbors means k\n",
    "    kNN.fit(X_train, y_train)\n",
    "    acc_score_list.append(kNN.score(X_test, y_test))\n",
    "    y_pred = kNN.predict(X_test) # 预测心脏病结果\n",
    "    f1_score_list.append(f1_score(y_test, y_pred))\n",
    "index = np.arange(1,15,1)\n",
    "plt.plot(index,acc_score_list,c='blue',linestyle='solid')\n",
    "plt.plot(index,f1_score_list,c='red',linestyle='dashed')\n",
    "plt.legend([\"Accuracy\", \"F1 Score\"])\n",
    "plt.xlabel(\"K value\")\n",
    "plt.ylabel(\"Score\")\n",
    "plt.grid('false')\n",
    "plt.show()\n",
    "kNN_acc = max(f1_score_list)*100\n",
    "print(\"Maximum kNN Score is {:.2f}%\".format(kNN_acc))"
   ]
  },
  {
   "cell_type": "markdown",
   "metadata": {},
   "source": [
    "## 8.2 支持向量机"
   ]
  },
  {
   "cell_type": "code",
   "execution_count": 23,
   "metadata": {},
   "outputs": [
    {
     "name": "stdout",
     "output_type": "stream",
     "text": [
      "SVM预测准确率：88.52%\n",
      "SVM预测F1分数：89.86%\n",
      "SVM混淆矩阵：\n",
      " [[23  3]\n",
      " [ 4 31]]\n"
     ]
    }
   ],
   "source": [
    "from sklearn.svm import SVC # 导入SVM分类器\n",
    "svm = SVC(random_state = 1)\n",
    "svm.fit(X_train, y_train)\n",
    "y_pred = svm.predict(X_test)    # 预测心脏病结果\n",
    "svm_acc = svm.score(X_test, y_test) * 100\n",
    "print(\"SVM预测准确率：{:.2f}%\".format(svm.score(X_test, y_test) * 100))\n",
    "print(\"SVM预测F1分数：{:.2f}%\".format(f1_score(y_test, y_pred) * 100))\n",
    "print('SVM混淆矩阵：\\n', confusion_matrix(y_pred, y_test))"
   ]
  },
  {
   "cell_type": "markdown",
   "metadata": {},
   "source": [
    "\n",
    "## 8.3 朴素贝叶斯"
   ]
  },
  {
   "cell_type": "code",
   "execution_count": 24,
   "metadata": {},
   "outputs": [
    {
     "name": "stdout",
     "output_type": "stream",
     "text": [
      "NB预测准确率：86.89%\n",
      "NB预测F1分数：88.24%\n",
      "NB混淆矩阵：\n",
      " [[23  4]\n",
      " [ 4 30]]\n"
     ]
    }
   ],
   "source": [
    "from sklearn.naive_bayes import GaussianNB # 导入朴素贝叶斯模型\n",
    "nb = GaussianNB()\n",
    "nb.fit(X_train, y_train)\n",
    "y_pred = nb.predict(X_test)\n",
    "nb_acc = nb.score(X_test, y_test) * 100\n",
    "print(\"NB预测准确率：{:.2f}%\".format(nb.score(X_test, y_test) * 100))\n",
    "print(\"NB预测F1分数：{:.2f}%\".format(f1_score(y_test, y_pred) * 100))\n",
    "print('NB混淆矩阵：\\n', confusion_matrix(y_pred, y_test))"
   ]
  },
  {
   "cell_type": "markdown",
   "metadata": {},
   "source": [
    "## 8.4 决策树"
   ]
  },
  {
   "cell_type": "code",
   "execution_count": 25,
   "metadata": {},
   "outputs": [
    {
     "name": "stdout",
     "output_type": "stream",
     "text": [
      "Decision Tree Test Accuracy 78.69%\n",
      "决策树预测准确率：78.69%\n",
      "决策树预测F1分数：80.00%\n",
      "决策树混淆矩阵：\n",
      " [[22  8]\n",
      " [ 5 26]]\n"
     ]
    }
   ],
   "source": [
    "from sklearn.tree import DecisionTreeClassifier # 导入决策树模型\n",
    "dtc = DecisionTreeClassifier()\n",
    "dtc.fit(X_train, y_train)\n",
    "y_pred = dtc.predict(X_test)\n",
    "dtc_acc = dtc.score(X_test, y_test) * 100\n",
    "print(\"Decision Tree Test Accuracy {:.2f}%\".format(dtc_acc))\n",
    "print(\"决策树预测准确率：{:.2f}%\".format(dtc.score(X_test, y_test) * 100))\n",
    "print(\"决策树预测F1分数：{:.2f}%\".format(f1_score(y_test, y_pred) * 100))\n",
    "print('决策树混淆矩阵：\\n', confusion_matrix(y_pred, y_test))"
   ]
  },
  {
   "cell_type": "markdown",
   "metadata": {},
   "source": [
    "## 8.5 随机森林"
   ]
  },
  {
   "cell_type": "code",
   "execution_count": 26,
   "metadata": {},
   "outputs": [
    {
     "name": "stdout",
     "output_type": "stream",
     "text": [
      "随机森林预测准确率：88.52%\n",
      "随机森林预测F1分数：89.86%\n",
      "随机森林混淆矩阵：\n",
      " [[23  3]\n",
      " [ 4 31]]\n"
     ]
    }
   ],
   "source": [
    "from sklearn.ensemble import RandomForestClassifier # 导入随机森林分类器\n",
    "rf = RandomForestClassifier()\n",
    "rf.fit(X_train, y_train)\n",
    "y_pred = rf.predict(X_test)\n",
    "rf_acc = rf.score(X_test, y_test) * 100\n",
    "print(\"随机森林预测准确率：{:.2f}%\".format(rf.score(X_test, y_test) * 100))\n",
    "print(\"随机森林预测F1分数：{:.2f}%\".format(f1_score(y_test, y_pred) * 100))\n",
    "print('随机森林混淆矩阵：\\n', confusion_matrix(y_pred, y_test))"
   ]
  },
  {
   "cell_type": "markdown",
   "metadata": {},
   "source": [
    "## 8.6 如何选择最佳机器学习算法"
   ]
  },
  {
   "cell_type": "code",
   "execution_count": 27,
   "metadata": {},
   "outputs": [
    {
     "name": "stdout",
     "output_type": "stream",
     "text": [
      "逻辑回归测试集准确率： 86.89%\n",
      "逻辑回归测试集F1分数: 88.24%\n",
      "逻辑回归测试集混淆矩阵:\n",
      " [[23  4]\n",
      " [ 4 30]]\n"
     ]
    }
   ],
   "source": [
    "from sklearn.linear_model import LogisticRegression # 导入逻辑回归模型\n",
    "lr = LogisticRegression()\n",
    "lr.fit(X_train,y_train) \n",
    "y_pred = lr.predict(X_test) # 预测心脏病结果\n",
    "lr_acc = lr.score(X_test,y_test)*100 \n",
    "lr_f1 = f1_score(y_test, y_pred)*100 \n",
    "print(\"逻辑回归测试集准确率： {:.2f}%\".format(lr_acc))\n",
    "print(\"逻辑回归测试集F1分数: {:.2f}%\".format(lr_f1))\n",
    "print('逻辑回归测试集混淆矩阵:\\n', confusion_matrix(y_test,y_pred))"
   ]
  },
  {
   "cell_type": "code",
   "execution_count": 28,
   "metadata": {},
   "outputs": [
    {
     "data": {
      "image/png": "[encoded data removed]",
      "text/plain": [
       "<Figure size 1152x360 with 1 Axes>"
      ]
     },
     "metadata": {},
     "output_type": "display_data"
    }
   ],
   "source": [
    "# 下面就输出所有这些算法针对心脏病预测的准确率直方图\n",
    "methods = [\"Logistic Regression\", \"kNN\", \"SVM\", \n",
    "           \"Naive Bayes\", \"Decision Tree\", \"Random Forest\"]\n",
    "accuracy = [lr_acc, kNN_acc, svm_acc, nb_acc, dtc_acc, rf_acc]\n",
    "colors = [\"orange\",\"red\",\"purple\", \"magenta\", \"green\",\"blue\"]\n",
    "sns.set_style(\"whitegrid\")\n",
    "plt.figure(figsize=(16,5))\n",
    "plt.yticks(np.arange(0,100,10))\n",
    "plt.ylabel(\"Accuracy %\")\n",
    "plt.xlabel(\"Algorithms\")\n",
    "sns.barplot(x=methods, y=accuracy, palette=colors)\n",
    "plt.grid(b=None)\n",
    "plt.show()"
   ]
  },
  {
   "cell_type": "code",
   "execution_count": 29,
   "metadata": {},
   "outputs": [
    {
     "data": {
      "image/png": "[encoded data removed]",
      "text/plain": [
       "<Figure size 1728x864 with 6 Axes>"
      ]
     },
     "metadata": {},
     "output_type": "display_data"
    }
   ],
   "source": [
    "# 绘制各算法的混淆矩阵\n",
    "from sklearn.metrics import confusion_matrix\n",
    "y_pred_lr = lr.predict(X_test)\n",
    "kNN3 = KNeighborsClassifier(n_neighbors = 3)\n",
    "kNN3.fit(X_train, y_train)\n",
    "y_pred_kNN = kNN3.predict(X_test)\n",
    "y_pred_svm = svm.predict(X_test)\n",
    "y_pred_nb = nb.predict(X_test)\n",
    "y_pred_dtc = dtc.predict(X_test)\n",
    "y_pred_rf = rf.predict(X_test)\n",
    "cm_lr = confusion_matrix(y_test,y_pred_lr)\n",
    "cm_kNN = confusion_matrix(y_test,y_pred_kNN)\n",
    "cm_svm = confusion_matrix(y_test,y_pred_svm)\n",
    "cm_nb = confusion_matrix(y_test,y_pred_nb)\n",
    "cm_dtc = confusion_matrix(y_test,y_pred_dtc)\n",
    "cm_rf = confusion_matrix(y_test,y_pred_rf)\n",
    "plt.figure(figsize=(24,12))\n",
    "plt.suptitle(\"Confusion Matrixes\",fontsize=24)\n",
    "plt.subplots_adjust(wspace = 0.4, hspace= 0.4)\n",
    "plt.subplot(2,3,1)\n",
    "plt.title(\"Logistic Regression Confusion Matrix\")\n",
    "sns.heatmap(cm_lr,annot=True,cmap=\"Blues\",fmt=\"d\",cbar=False)\n",
    "plt.subplot(2,3,2)\n",
    "plt.title(\"K Nearest Neighbors Confusion Matrix\")\n",
    "sns.heatmap(cm_kNN,annot=True,cmap=\"Blues\",fmt=\"d\",cbar=False)\n",
    "plt.subplot(2,3,3)\n",
    "plt.title(\"Support Vector Machine Confusion Matrix\")\n",
    "sns.heatmap(cm_svm,annot=True,cmap=\"Blues\",fmt=\"d\",cbar=False)\n",
    "plt.subplot(2,3,4)\n",
    "plt.title(\"Naive Bayes Confusion Matrix\")\n",
    "sns.heatmap(cm_nb,annot=True,cmap=\"Blues\",fmt=\"d\",cbar=False)\n",
    "plt.subplot(2,3,5)\n",
    "plt.title(\"Decision Tree Classifier Confusion Matrix\")\n",
    "sns.heatmap(cm_dtc,annot=True,cmap=\"Blues\",fmt=\"d\",cbar=False)\n",
    "plt.subplot(2,3,6)\n",
    "plt.title(\"Random Forest Confusion Matrix\")\n",
    "sns.heatmap(cm_rf,annot=True,cmap=\"Blues\",fmt=\"d\",cbar=False)\n",
    "plt.show()"
   ]
  },
  {
   "cell_type": "markdown",
   "metadata": {},
   "source": [
    "## 8.7 用网格搜索超参数调优"
   ]
  },
  {
   "cell_type": "code",
   "execution_count": 30,
   "metadata": {},
   "outputs": [
    {
     "name": "stdout",
     "output_type": "stream",
     "text": [
      "Fitting 10 folds for each of 54 candidates, totalling 540 fits\n"
     ]
    },
    {
     "data": {
      "text/plain": [
       "GridSearchCV(cv=StratifiedKFold(n_splits=10, random_state=None, shuffle=False),\n",
       "             estimator=RandomForestClassifier(), n_jobs=10,\n",
       "             param_grid={'bootstrap': [False], 'criterion': ['gini'],\n",
       "                         'max_depth': [None], 'max_features': [3, 5, 12],\n",
       "                         'min_samples_leaf': [3, 5, 10],\n",
       "                         'min_samples_split': [2, 5, 10],\n",
       "                         'n_estimators': [100, 300]},\n",
       "             scoring='accuracy', verbose=1)"
      ]
     },
     "execution_count": 30,
     "metadata": {},
     "output_type": "execute_result"
    }
   ],
   "source": [
    "from sklearn.model_selection import StratifiedKFold # 导入K折验证工具\n",
    "from sklearn.model_selection import GridSearchCV # 导入网格搜索工具\n",
    "kfold = StratifiedKFold(n_splits=10) # 10折验证\n",
    "rf = RandomForestClassifier() # 随机森林\n",
    "# 对随机森林算法进行参数优化\n",
    "rf_param_grid = {\"max_depth\": [None],\n",
    "                                \"max_features\": [3, 5, 12],\n",
    "                                \"min_samples_split\": [2, 5, 10],\n",
    "                                \"min_samples_leaf\": [3, 5, 10],\n",
    "                                \"bootstrap\": [False],\n",
    "                                \"n_estimators\": [100, 300],\n",
    "                                \"criterion\": [\"gini\"]}\n",
    "rf_gs = GridSearchCV(rf, param_grid = rf_param_grid, cv = kfold,\n",
    "                                        scoring = \"accuracy\", n_jobs = 10, verbose = 1)\n",
    "rf_gs.fit(X_train, y_train)# 用优化后的参数拟合训练数据集"
   ]
  },
  {
   "cell_type": "code",
   "execution_count": 31,
   "metadata": {},
   "outputs": [
    {
     "name": "stdout",
     "output_type": "stream",
     "text": [
      "参数优化后随机森林测试准确率: 0.8852459016393442\n"
     ]
    }
   ],
   "source": [
    "from sklearn.metrics import (accuracy_score, confusion_matrix)\n",
    "y_hat_rfgs = rf_gs.predict(X_test) # 用随机森林算法的最佳参数进行预测\n",
    "print(\"参数优化后随机森林测试准确率:\", accuracy_score(y_test.T, y_hat_rfgs))"
   ]
  },
  {
   "cell_type": "code",
   "execution_count": 32,
   "metadata": {},
   "outputs": [
    {
     "data": {
      "text/plain": [
       "<AxesSubplot:title={'center':'Random Forest (Best Score) Confusion Matrix'}>"
      ]
     },
     "execution_count": 32,
     "metadata": {},
     "output_type": "execute_result"
    },
    {
     "data": {
      "image/png": "[encoded data removed]",
      "text/plain": [
       "<Figure size 288x288 with 1 Axes>"
      ]
     },
     "metadata": {},
     "output_type": "display_data"
    }
   ],
   "source": [
    "cm_rfgs = confusion_matrix(y_test,y_hat_rfgs) # 显示混淆矩阵\n",
    "plt.figure(figsize=(4,4))\n",
    "plt.title(\"Random Forest (Best Score) Confusion Matrix\")\n",
    "sns.heatmap(cm_rfgs,annot=True,cmap=\"Blues\",fmt=\"d\",cbar=False)"
   ]
  },
  {
   "cell_type": "code",
   "execution_count": 33,
   "metadata": {},
   "outputs": [
    {
     "name": "stdout",
     "output_type": "stream",
     "text": [
      "最佳参数组合: {'bootstrap': False, 'criterion': 'gini', 'max_depth': None, 'max_features': 3, 'min_samples_leaf': 3, 'min_samples_split': 10, 'n_estimators': 100}\n"
     ]
    }
   ],
   "source": [
    "print(\"最佳参数组合:\",rf_gs.best_params_)"
   ]
  }
 ],
 "metadata": {
  "interpreter": {
   "hash": "96bbb65fb5df4d9cc0d3b437c46ecfe8c6742e111c114025f0cea31b14306341"
  },
  "kernelspec": {
   "display_name": "Python 3.8.8 ('Vuean_ML')",
   "language": "python",
   "name": "python3"
  },
  "language_info": {
   "codemirror_mode": {
    "name": "ipython",
    "version": 3
   },
   "file_extension": ".py",
   "mimetype": "text/x-python",
   "name": "python",
   "nbconvert_exporter": "python",
   "pygments_lexer": "ipython3",
   "version": "3.8.8"
  },
  "orig_nbformat": 4
 },
 "nbformat": 4,
 "nbformat_minor": 2
}
