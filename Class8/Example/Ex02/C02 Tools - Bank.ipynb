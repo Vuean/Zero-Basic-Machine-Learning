{
 "cells": [
  {
   "cell_type": "code",
   "execution_count": 13,
   "metadata": {},
   "outputs": [
    {
     "data": {
      "text/html": [
       "<div>\n",
       "<style scoped>\n",
       "    .dataframe tbody tr th:only-of-type {\n",
       "        vertical-align: middle;\n",
       "    }\n",
       "\n",
       "    .dataframe tbody tr th {\n",
       "        vertical-align: top;\n",
       "    }\n",
       "\n",
       "    .dataframe thead th {\n",
       "        text-align: right;\n",
       "    }\n",
       "</style>\n",
       "<table border=\"1\" class=\"dataframe\">\n",
       "  <thead>\n",
       "    <tr style=\"text-align: right;\">\n",
       "      <th></th>\n",
       "      <th>Name</th>\n",
       "      <th>Gender</th>\n",
       "      <th>Age</th>\n",
       "      <th>City</th>\n",
       "      <th>Tenure</th>\n",
       "      <th>ProductsNo</th>\n",
       "      <th>HasCard</th>\n",
       "      <th>ActiveMember</th>\n",
       "      <th>Credit</th>\n",
       "      <th>AccountBal</th>\n",
       "      <th>Salary</th>\n",
       "      <th>Exited</th>\n",
       "    </tr>\n",
       "  </thead>\n",
       "  <tbody>\n",
       "    <tr>\n",
       "      <th>0</th>\n",
       "      <td>Kan Jian</td>\n",
       "      <td>Female</td>\n",
       "      <td>40</td>\n",
       "      <td>Beijing</td>\n",
       "      <td>9</td>\n",
       "      <td>2</td>\n",
       "      <td>0</td>\n",
       "      <td>1</td>\n",
       "      <td>516</td>\n",
       "      <td>6360.66</td>\n",
       "      <td>0.0000</td>\n",
       "      <td>0</td>\n",
       "    </tr>\n",
       "    <tr>\n",
       "      <th>1</th>\n",
       "      <td>Xue Baochai</td>\n",
       "      <td>Male</td>\n",
       "      <td>69</td>\n",
       "      <td>Beijing</td>\n",
       "      <td>6</td>\n",
       "      <td>2</td>\n",
       "      <td>0</td>\n",
       "      <td>1</td>\n",
       "      <td>682</td>\n",
       "      <td>28605.00</td>\n",
       "      <td>0.0000</td>\n",
       "      <td>0</td>\n",
       "    </tr>\n",
       "    <tr>\n",
       "      <th>2</th>\n",
       "      <td>Mao Xi</td>\n",
       "      <td>Female</td>\n",
       "      <td>32</td>\n",
       "      <td>Beijing</td>\n",
       "      <td>9</td>\n",
       "      <td>1</td>\n",
       "      <td>1</td>\n",
       "      <td>1</td>\n",
       "      <td>803</td>\n",
       "      <td>10378.09</td>\n",
       "      <td>236311.0932</td>\n",
       "      <td>1</td>\n",
       "    </tr>\n",
       "    <tr>\n",
       "      <th>3</th>\n",
       "      <td>Zheng Nengliang</td>\n",
       "      <td>Female</td>\n",
       "      <td>37</td>\n",
       "      <td>Tianjin</td>\n",
       "      <td>0</td>\n",
       "      <td>2</td>\n",
       "      <td>1</td>\n",
       "      <td>1</td>\n",
       "      <td>778</td>\n",
       "      <td>25564.01</td>\n",
       "      <td>129909.8079</td>\n",
       "      <td>1</td>\n",
       "    </tr>\n",
       "    <tr>\n",
       "      <th>4</th>\n",
       "      <td>Zhi Fen</td>\n",
       "      <td>Male</td>\n",
       "      <td>55</td>\n",
       "      <td>Tianjin</td>\n",
       "      <td>4</td>\n",
       "      <td>3</td>\n",
       "      <td>1</td>\n",
       "      <td>0</td>\n",
       "      <td>547</td>\n",
       "      <td>3235.61</td>\n",
       "      <td>136976.1948</td>\n",
       "      <td>1</td>\n",
       "    </tr>\n",
       "  </tbody>\n",
       "</table>\n",
       "</div>"
      ],
      "text/plain": [
       "              Name  Gender  Age     City  Tenure  ProductsNo  HasCard  \\\n",
       "0         Kan Jian  Female   40  Beijing       9           2        0   \n",
       "1      Xue Baochai    Male   69  Beijing       6           2        0   \n",
       "2           Mao Xi  Female   32  Beijing       9           1        1   \n",
       "3  Zheng Nengliang  Female   37  Tianjin       0           2        1   \n",
       "4          Zhi Fen    Male   55  Tianjin       4           3        1   \n",
       "\n",
       "   ActiveMember  Credit  AccountBal       Salary  Exited  \n",
       "0             1     516     6360.66       0.0000       0  \n",
       "1             1     682    28605.00       0.0000       0  \n",
       "2             1     803    10378.09  236311.0932       1  \n",
       "3             1     778    25564.01  129909.8079       1  \n",
       "4             0     547     3235.61  136976.1948       1  "
      ]
     },
     "execution_count": 13,
     "metadata": {},
     "output_type": "execute_result"
    }
   ],
   "source": [
    "import numpy as np\n",
    "import pandas as pd\n",
    "df = pd.read_csv(\"./dataset/BankCustomer.csv\") # 读取文件\n",
    "df.head()"
   ]
  },
  {
   "cell_type": "code",
   "execution_count": 14,
   "metadata": {},
   "outputs": [
    {
     "data": {
      "text/plain": [
       "0    7963\n",
       "1    2037\n",
       "Name: Exited, dtype: int64"
      ]
     },
     "execution_count": 14,
     "metadata": {},
     "output_type": "execute_result"
    }
   ],
   "source": [
    "df.Exited.value_counts()"
   ]
  },
  {
   "cell_type": "code",
   "execution_count": 15,
   "metadata": {},
   "outputs": [
    {
     "data": {
      "image/png": "[encoded data removed]",
      "text/plain": [
       "<Figure size 432x288 with 1 Axes>"
      ]
     },
     "metadata": {
      "needs_background": "light"
     },
     "output_type": "display_data"
    }
   ],
   "source": [
    "import matplotlib.pyplot as plt\n",
    "import seaborn as sns\n",
    "sns.countplot(x=\"Exited\", data=df, palette=\"bwr\")\n",
    "plt.show()"
   ]
  },
  {
   "cell_type": "code",
   "execution_count": 16,
   "metadata": {},
   "outputs": [
    {
     "data": {
      "text/html": [
       "<div>\n",
       "<style scoped>\n",
       "    .dataframe tbody tr th:only-of-type {\n",
       "        vertical-align: middle;\n",
       "    }\n",
       "\n",
       "    .dataframe tbody tr th {\n",
       "        vertical-align: top;\n",
       "    }\n",
       "\n",
       "    .dataframe thead th {\n",
       "        text-align: right;\n",
       "    }\n",
       "</style>\n",
       "<table border=\"1\" class=\"dataframe\">\n",
       "  <thead>\n",
       "    <tr style=\"text-align: right;\">\n",
       "      <th></th>\n",
       "      <th>Name</th>\n",
       "      <th>Gender</th>\n",
       "      <th>Age</th>\n",
       "      <th>City</th>\n",
       "      <th>Tenure</th>\n",
       "      <th>ProductsNo</th>\n",
       "      <th>HasCard</th>\n",
       "      <th>ActiveMember</th>\n",
       "      <th>Credit</th>\n",
       "      <th>AccountBal</th>\n",
       "      <th>...</th>\n",
       "      <th>Exited</th>\n",
       "      <th>PN_1</th>\n",
       "      <th>PN_2</th>\n",
       "      <th>PN_3</th>\n",
       "      <th>PN_4</th>\n",
       "      <th>City_Beijing</th>\n",
       "      <th>City_Shanghai</th>\n",
       "      <th>City_Tianjin</th>\n",
       "      <th>Gender_Female</th>\n",
       "      <th>Gender_Male</th>\n",
       "    </tr>\n",
       "  </thead>\n",
       "  <tbody>\n",
       "    <tr>\n",
       "      <th>0</th>\n",
       "      <td>Kan Jian</td>\n",
       "      <td>Female</td>\n",
       "      <td>40</td>\n",
       "      <td>Beijing</td>\n",
       "      <td>9</td>\n",
       "      <td>2</td>\n",
       "      <td>0</td>\n",
       "      <td>1</td>\n",
       "      <td>516</td>\n",
       "      <td>6360.66</td>\n",
       "      <td>...</td>\n",
       "      <td>0</td>\n",
       "      <td>0</td>\n",
       "      <td>1</td>\n",
       "      <td>0</td>\n",
       "      <td>0</td>\n",
       "      <td>1</td>\n",
       "      <td>0</td>\n",
       "      <td>0</td>\n",
       "      <td>1</td>\n",
       "      <td>0</td>\n",
       "    </tr>\n",
       "    <tr>\n",
       "      <th>1</th>\n",
       "      <td>Xue Baochai</td>\n",
       "      <td>Male</td>\n",
       "      <td>69</td>\n",
       "      <td>Beijing</td>\n",
       "      <td>6</td>\n",
       "      <td>2</td>\n",
       "      <td>0</td>\n",
       "      <td>1</td>\n",
       "      <td>682</td>\n",
       "      <td>28605.00</td>\n",
       "      <td>...</td>\n",
       "      <td>0</td>\n",
       "      <td>0</td>\n",
       "      <td>1</td>\n",
       "      <td>0</td>\n",
       "      <td>0</td>\n",
       "      <td>1</td>\n",
       "      <td>0</td>\n",
       "      <td>0</td>\n",
       "      <td>0</td>\n",
       "      <td>1</td>\n",
       "    </tr>\n",
       "    <tr>\n",
       "      <th>2</th>\n",
       "      <td>Mao Xi</td>\n",
       "      <td>Female</td>\n",
       "      <td>32</td>\n",
       "      <td>Beijing</td>\n",
       "      <td>9</td>\n",
       "      <td>1</td>\n",
       "      <td>1</td>\n",
       "      <td>1</td>\n",
       "      <td>803</td>\n",
       "      <td>10378.09</td>\n",
       "      <td>...</td>\n",
       "      <td>1</td>\n",
       "      <td>1</td>\n",
       "      <td>0</td>\n",
       "      <td>0</td>\n",
       "      <td>0</td>\n",
       "      <td>1</td>\n",
       "      <td>0</td>\n",
       "      <td>0</td>\n",
       "      <td>1</td>\n",
       "      <td>0</td>\n",
       "    </tr>\n",
       "    <tr>\n",
       "      <th>3</th>\n",
       "      <td>Zheng Nengliang</td>\n",
       "      <td>Female</td>\n",
       "      <td>37</td>\n",
       "      <td>Tianjin</td>\n",
       "      <td>0</td>\n",
       "      <td>2</td>\n",
       "      <td>1</td>\n",
       "      <td>1</td>\n",
       "      <td>778</td>\n",
       "      <td>25564.01</td>\n",
       "      <td>...</td>\n",
       "      <td>1</td>\n",
       "      <td>0</td>\n",
       "      <td>1</td>\n",
       "      <td>0</td>\n",
       "      <td>0</td>\n",
       "      <td>0</td>\n",
       "      <td>0</td>\n",
       "      <td>1</td>\n",
       "      <td>1</td>\n",
       "      <td>0</td>\n",
       "    </tr>\n",
       "    <tr>\n",
       "      <th>4</th>\n",
       "      <td>Zhi Fen</td>\n",
       "      <td>Male</td>\n",
       "      <td>55</td>\n",
       "      <td>Tianjin</td>\n",
       "      <td>4</td>\n",
       "      <td>3</td>\n",
       "      <td>1</td>\n",
       "      <td>0</td>\n",
       "      <td>547</td>\n",
       "      <td>3235.61</td>\n",
       "      <td>...</td>\n",
       "      <td>1</td>\n",
       "      <td>0</td>\n",
       "      <td>0</td>\n",
       "      <td>1</td>\n",
       "      <td>0</td>\n",
       "      <td>0</td>\n",
       "      <td>0</td>\n",
       "      <td>1</td>\n",
       "      <td>0</td>\n",
       "      <td>1</td>\n",
       "    </tr>\n",
       "  </tbody>\n",
       "</table>\n",
       "<p>5 rows × 21 columns</p>\n",
       "</div>"
      ],
      "text/plain": [
       "              Name  Gender  Age     City  Tenure  ProductsNo  HasCard  \\\n",
       "0         Kan Jian  Female   40  Beijing       9           2        0   \n",
       "1      Xue Baochai    Male   69  Beijing       6           2        0   \n",
       "2           Mao Xi  Female   32  Beijing       9           1        1   \n",
       "3  Zheng Nengliang  Female   37  Tianjin       0           2        1   \n",
       "4          Zhi Fen    Male   55  Tianjin       4           3        1   \n",
       "\n",
       "   ActiveMember  Credit  AccountBal  ...  Exited  PN_1  PN_2  PN_3  PN_4  \\\n",
       "0             1     516     6360.66  ...       0     0     1     0     0   \n",
       "1             1     682    28605.00  ...       0     0     1     0     0   \n",
       "2             1     803    10378.09  ...       1     1     0     0     0   \n",
       "3             1     778    25564.01  ...       1     0     1     0     0   \n",
       "4             0     547     3235.61  ...       1     0     0     1     0   \n",
       "\n",
       "   City_Beijing  City_Shanghai  City_Tianjin  Gender_Female  Gender_Male  \n",
       "0             1              0             0              1            0  \n",
       "1             1              0             0              0            1  \n",
       "2             1              0             0              1            0  \n",
       "3             0              0             1              1            0  \n",
       "4             0              0             1              0            1  \n",
       "\n",
       "[5 rows x 21 columns]"
      ]
     },
     "execution_count": 16,
     "metadata": {},
     "output_type": "execute_result"
    }
   ],
   "source": [
    "# 将某些特征转换为数值类型的哑变量\n",
    "a = pd.get_dummies(df['ProductsNo'], prefix = \"PN\")\n",
    "b = pd.get_dummies(df['City'], prefix = \"City\")\n",
    "c = pd.get_dummies(df['Gender'], prefix = \"Gender\")\n",
    "frames = [df, a, b, c]\n",
    "df = pd.concat(frames, axis = 1)\n",
    "df.head()"
   ]
  },
  {
   "cell_type": "code",
   "execution_count": 17,
   "metadata": {},
   "outputs": [
    {
     "data": {
      "text/html": [
       "<div>\n",
       "<style scoped>\n",
       "    .dataframe tbody tr th:only-of-type {\n",
       "        vertical-align: middle;\n",
       "    }\n",
       "\n",
       "    .dataframe tbody tr th {\n",
       "        vertical-align: top;\n",
       "    }\n",
       "\n",
       "    .dataframe thead th {\n",
       "        text-align: right;\n",
       "    }\n",
       "</style>\n",
       "<table border=\"1\" class=\"dataframe\">\n",
       "  <thead>\n",
       "    <tr style=\"text-align: right;\">\n",
       "      <th></th>\n",
       "      <th>Age</th>\n",
       "      <th>Tenure</th>\n",
       "      <th>HasCard</th>\n",
       "      <th>ActiveMember</th>\n",
       "      <th>Credit</th>\n",
       "      <th>AccountBal</th>\n",
       "      <th>Salary</th>\n",
       "      <th>Exited</th>\n",
       "      <th>PN_1</th>\n",
       "      <th>PN_2</th>\n",
       "      <th>PN_3</th>\n",
       "      <th>PN_4</th>\n",
       "      <th>City_Beijing</th>\n",
       "      <th>City_Shanghai</th>\n",
       "      <th>City_Tianjin</th>\n",
       "      <th>Gender_Female</th>\n",
       "      <th>Gender_Male</th>\n",
       "    </tr>\n",
       "  </thead>\n",
       "  <tbody>\n",
       "    <tr>\n",
       "      <th>0</th>\n",
       "      <td>40</td>\n",
       "      <td>9</td>\n",
       "      <td>0</td>\n",
       "      <td>1</td>\n",
       "      <td>516</td>\n",
       "      <td>6360.66</td>\n",
       "      <td>0.0000</td>\n",
       "      <td>0</td>\n",
       "      <td>0</td>\n",
       "      <td>1</td>\n",
       "      <td>0</td>\n",
       "      <td>0</td>\n",
       "      <td>1</td>\n",
       "      <td>0</td>\n",
       "      <td>0</td>\n",
       "      <td>1</td>\n",
       "      <td>0</td>\n",
       "    </tr>\n",
       "    <tr>\n",
       "      <th>1</th>\n",
       "      <td>69</td>\n",
       "      <td>6</td>\n",
       "      <td>0</td>\n",
       "      <td>1</td>\n",
       "      <td>682</td>\n",
       "      <td>28605.00</td>\n",
       "      <td>0.0000</td>\n",
       "      <td>0</td>\n",
       "      <td>0</td>\n",
       "      <td>1</td>\n",
       "      <td>0</td>\n",
       "      <td>0</td>\n",
       "      <td>1</td>\n",
       "      <td>0</td>\n",
       "      <td>0</td>\n",
       "      <td>0</td>\n",
       "      <td>1</td>\n",
       "    </tr>\n",
       "    <tr>\n",
       "      <th>2</th>\n",
       "      <td>32</td>\n",
       "      <td>9</td>\n",
       "      <td>1</td>\n",
       "      <td>1</td>\n",
       "      <td>803</td>\n",
       "      <td>10378.09</td>\n",
       "      <td>236311.0932</td>\n",
       "      <td>1</td>\n",
       "      <td>1</td>\n",
       "      <td>0</td>\n",
       "      <td>0</td>\n",
       "      <td>0</td>\n",
       "      <td>1</td>\n",
       "      <td>0</td>\n",
       "      <td>0</td>\n",
       "      <td>1</td>\n",
       "      <td>0</td>\n",
       "    </tr>\n",
       "    <tr>\n",
       "      <th>3</th>\n",
       "      <td>37</td>\n",
       "      <td>0</td>\n",
       "      <td>1</td>\n",
       "      <td>1</td>\n",
       "      <td>778</td>\n",
       "      <td>25564.01</td>\n",
       "      <td>129909.8079</td>\n",
       "      <td>1</td>\n",
       "      <td>0</td>\n",
       "      <td>1</td>\n",
       "      <td>0</td>\n",
       "      <td>0</td>\n",
       "      <td>0</td>\n",
       "      <td>0</td>\n",
       "      <td>1</td>\n",
       "      <td>1</td>\n",
       "      <td>0</td>\n",
       "    </tr>\n",
       "    <tr>\n",
       "      <th>4</th>\n",
       "      <td>55</td>\n",
       "      <td>4</td>\n",
       "      <td>1</td>\n",
       "      <td>0</td>\n",
       "      <td>547</td>\n",
       "      <td>3235.61</td>\n",
       "      <td>136976.1948</td>\n",
       "      <td>1</td>\n",
       "      <td>0</td>\n",
       "      <td>0</td>\n",
       "      <td>1</td>\n",
       "      <td>0</td>\n",
       "      <td>0</td>\n",
       "      <td>0</td>\n",
       "      <td>1</td>\n",
       "      <td>0</td>\n",
       "      <td>1</td>\n",
       "    </tr>\n",
       "  </tbody>\n",
       "</table>\n",
       "</div>"
      ],
      "text/plain": [
       "   Age  Tenure  HasCard  ActiveMember  Credit  AccountBal       Salary  \\\n",
       "0   40       9        0             1     516     6360.66       0.0000   \n",
       "1   69       6        0             1     682    28605.00       0.0000   \n",
       "2   32       9        1             1     803    10378.09  236311.0932   \n",
       "3   37       0        1             1     778    25564.01  129909.8079   \n",
       "4   55       4        1             0     547     3235.61  136976.1948   \n",
       "\n",
       "   Exited  PN_1  PN_2  PN_3  PN_4  City_Beijing  City_Shanghai  City_Tianjin  \\\n",
       "0       0     0     1     0     0             1              0             0   \n",
       "1       0     0     1     0     0             1              0             0   \n",
       "2       1     1     0     0     0             1              0             0   \n",
       "3       1     0     1     0     0             0              0             1   \n",
       "4       1     0     0     1     0             0              0             1   \n",
       "\n",
       "   Gender_Female  Gender_Male  \n",
       "0              1            0  \n",
       "1              0            1  \n",
       "2              1            0  \n",
       "3              1            0  \n",
       "4              0            1  "
      ]
     },
     "execution_count": 17,
     "metadata": {},
     "output_type": "execute_result"
    }
   ],
   "source": [
    "df = df.drop(columns=['ProductsNo', 'City', \"Gender\", \"Name\"])\n",
    "df.head()"
   ]
  },
  {
   "cell_type": "code",
   "execution_count": 18,
   "metadata": {},
   "outputs": [],
   "source": [
    "# 构建特征和标签集\n",
    "y = df.Exited.values\n",
    "X = df.drop(['Exited'], axis=1)"
   ]
  },
  {
   "cell_type": "code",
   "execution_count": 19,
   "metadata": {},
   "outputs": [],
   "source": [
    "from sklearn.model_selection import train_test_split\n",
    "X_train, X_test, y_train, y_test = train_test_split(X, y, test_size =0.2, random_state =0)"
   ]
  },
  {
   "cell_type": "code",
   "execution_count": 20,
   "metadata": {},
   "outputs": [],
   "source": [
    "# 进行特征缩放\n",
    "from sklearn import preprocessing\n",
    "scaler = preprocessing.MinMaxScaler()\n",
    "X_train = scaler.fit_transform(X_train)\n",
    "X_test = scaler.transform(X_test)"
   ]
  },
  {
   "cell_type": "code",
   "execution_count": 21,
   "metadata": {},
   "outputs": [],
   "source": [
    "from sklearn.metrics import (f1_score, confusion_matrix) # 导入评估指标"
   ]
  },
  {
   "cell_type": "code",
   "execution_count": 22,
   "metadata": {},
   "outputs": [
    {
     "name": "stdout",
     "output_type": "stream",
     "text": [
      "逻辑回归测试集准确率：84.15%\n",
      "逻辑回归测试集F1分数：49.60%\n",
      "逻辑回归测试集混淆矩阵：\n",
      " [[1527   56]\n",
      " [ 261  156]]\n"
     ]
    }
   ],
   "source": [
    "from sklearn.linear_model import LogisticRegression # 逻辑回归模型\n",
    "from sklearn.metrics import f1_score, confusion_matrix\n",
    "lr = LogisticRegression()\n",
    "lr.fit(X_train, y_train)\n",
    "y_pred = lr.predict(X_test)\n",
    "lr_acc = lr.score(X_test, y_test)*100 # 准确率\n",
    "lr_f1 = f1_score(y_test, y_pred) * 100 # F1分数\n",
    "print(\"逻辑回归测试集准确率：{:.2f}%\".format(lr_acc))\n",
    "print(\"逻辑回归测试集F1分数：{:.2f}%\".format(lr_f1))\n",
    "print(\"逻辑回归测试集混淆矩阵：\\n\", confusion_matrix(y_test, y_pred))"
   ]
  },
  {
   "cell_type": "code",
   "execution_count": 23,
   "metadata": {},
   "outputs": [
    {
     "name": "stdout",
     "output_type": "stream",
     "text": [
      "5NN 预测准确率：81.65%\n",
      "5NN 预测F1分数：43.80%\n",
      "KNN测试集混淆矩阵：\n",
      " [[1490   93]\n",
      " [ 274  143]]\n"
     ]
    }
   ],
   "source": [
    "from sklearn.neighbors import KNeighborsClassifier # 导入KNN算法\n",
    "k = 5 # 设定初始K值为5\n",
    "knn = KNeighborsClassifier(n_neighbors=k)\n",
    "knn.fit(X_train, y_train)\n",
    "y_pred = knn.predict(X_test)\n",
    "knn_acc = knn.score(X_test, y_test) * 100 # 准确率\n",
    "knn_f1 = f1_score(y_test, y_pred) * 100 # F1分数\n",
    "print(\"{}NN 预测准确率：{:.2f}%\".format(k, knn_acc))\n",
    "print(\"{}NN 预测F1分数：{:.2f}%\".format(k, knn_f1))\n",
    "print(\"KNN测试集混淆矩阵：\\n\", confusion_matrix(y_test, y_pred))"
   ]
  },
  {
   "cell_type": "code",
   "execution_count": 24,
   "metadata": {},
   "outputs": [
    {
     "data": {
      "image/png": "[encoded data removed]",
      "text/plain": [
       "<Figure size 432x288 with 1 Axes>"
      ]
     },
     "metadata": {
      "needs_background": "light"
     },
     "output_type": "display_data"
    },
    {
     "name": "stdout",
     "output_type": "stream",
     "text": [
      "Maximum kNN Score is 47.23%\n"
     ]
    }
   ],
   "source": [
    "# 寻找最佳K值\n",
    "f1_score_list = []\n",
    "acc_score_list = []\n",
    "for i in range(1, 15): # 从1到15，尝试每一个K值\n",
    "    kNN = KNeighborsClassifier(n_neighbors = i)\n",
    "    kNN.fit(X_train, y_train)\n",
    "    acc_score_list.append(kNN.score(X_test, y_test))\n",
    "    y_pred = kNN.predict(X_test)\n",
    "    f1_score_list.append(f1_score(y_test, y_pred))\n",
    "index = np.arange(1, 15, 1)\n",
    "# 绘制不同K值时，kNN的准确率和F1分数\n",
    "plt.plot(index, acc_score_list, c='blue', linestyle='solid')\n",
    "plt.plot(index, f1_score_list, c='red', linestyle='dashed')\n",
    "plt.legend([\"Accuracy\", \"F1 Score\"])\n",
    "plt.xlabel(\"K value\")\n",
    "plt.ylabel(\"Score\")\n",
    "plt.grid('false')\n",
    "plt.show()\n",
    "kNN_acc = max(f1_score_list)*100\n",
    "print(\"Maximum kNN Score is {:.2f}%\".format(kNN_acc))"
   ]
  },
  {
   "cell_type": "code",
   "execution_count": 25,
   "metadata": {},
   "outputs": [
    {
     "name": "stdout",
     "output_type": "stream",
     "text": [
      "SVM预测准确率：84.45%\n",
      "SVM预测F1分数：46.66%\n",
      "SVM测试集混淆矩阵：\n",
      " [[1553   30]\n",
      " [ 281  136]]\n"
     ]
    }
   ],
   "source": [
    "from sklearn.svm import SVC # 导入SVM分类器\n",
    "svm = SVC(random_state = 1)\n",
    "svm.fit(X_train, y_train)\n",
    "y_pred = svm.predict(X_test)\n",
    "svm_acc = svm.score(X_test, y_test) * 100\n",
    "svm_f1 = f1_score(y_test, y_pred) * 100\n",
    "print(\"SVM预测准确率：{:.2f}%\".format(svm_acc))\n",
    "print(\"SVM预测F1分数：{:.2f}%\".format(svm_f1))\n",
    "print(\"SVM测试集混淆矩阵：\\n\", confusion_matrix(y_test, y_pred))"
   ]
  },
  {
   "cell_type": "code",
   "execution_count": 26,
   "metadata": {},
   "outputs": [
    {
     "name": "stdout",
     "output_type": "stream",
     "text": [
      "朴素贝叶斯测试集准确率：81.35%\n",
      "朴素贝叶斯测试集F1分数：22.13%\n",
      "朴素贝叶斯混淆矩阵：\n",
      " [[1574    9]\n",
      " [ 364   53]]\n"
     ]
    }
   ],
   "source": [
    "from sklearn.naive_bayes import GaussianNB\n",
    "nb = GaussianNB()\n",
    "nb.fit(X_train, y_train)\n",
    "y_pred = nb.predict(X_test)\n",
    "nb_acc = nb.score(X_test, y_test) * 100\n",
    "nb_f1 = f1_score(y_test, y_pred) * 100\n",
    "print(\"朴素贝叶斯测试集准确率：{:.2f}%\".format(nb_acc))\n",
    "print(\"朴素贝叶斯测试集F1分数：{:.2f}%\".format(nb_f1))\n",
    "print(\"朴素贝叶斯混淆矩阵：\\n\", confusion_matrix(y_test, y_pred))"
   ]
  },
  {
   "cell_type": "code",
   "execution_count": 27,
   "metadata": {},
   "outputs": [
    {
     "name": "stdout",
     "output_type": "stream",
     "text": [
      "决策树测试集准确率:: 81.30%\n",
      "决策树测试集F1分数: 54.94%\n",
      "决策树混淆矩阵:\n",
      " [[1398  185]\n",
      " [ 189  228]]\n"
     ]
    }
   ],
   "source": [
    "from sklearn.tree import DecisionTreeClassifier\n",
    "dt = DecisionTreeClassifier()\n",
    "dt.fit(X_train, y_train)\n",
    "y_pred = dt.predict(X_test)\n",
    "dt_acc = dt.score(X_test, y_test) * 100\n",
    "dt_f1 = f1_score(y_test, y_pred) * 100\n",
    "print(\"决策树测试集准确率:: {:.2f}%\".format(dt_acc))\n",
    "print(\"决策树测试集F1分数: {:.2f}%\".format(dt_f1))\n",
    "print('决策树混淆矩阵:\\n', confusion_matrix(y_test,y_pred))"
   ]
  },
  {
   "cell_type": "code",
   "execution_count": 29,
   "metadata": {},
   "outputs": [
    {
     "name": "stdout",
     "output_type": "stream",
     "text": [
      "随机森林 预测准确率:: 86.00%\n",
      "随机森林 预测F1分数: 58.46%\n",
      "随机森林 混淆矩阵:\n",
      " [[1523   60]\n",
      " [ 220  197]]\n"
     ]
    }
   ],
   "source": [
    "from sklearn.ensemble import RandomForestClassifier\n",
    "rfc = RandomForestClassifier()\n",
    "rfc.fit(X_train, y_train)\n",
    "y_pred = rfc.predict(X_test)\n",
    "rfc_acc = rfc.score(X_test, y_test) * 100\n",
    "rfc_f1 = f1_score(y_test, y_pred) * 100\n",
    "print(\"随机森林 预测准确率:: {:.2f}%\".format(rfc_acc))\n",
    "print(\"随机森林 预测F1分数: {:.2f}%\".format(rfc_f1))\n",
    "print('随机森林 混淆矩阵:\\n', confusion_matrix( y_test,y_pred))"
   ]
  },
  {
   "cell_type": "code",
   "execution_count": 30,
   "metadata": {},
   "outputs": [
    {
     "data": {
      "image/png": "[encoded data removed]",
      "text/plain": [
       "<Figure size 1152x360 with 1 Axes>"
      ]
     },
     "metadata": {},
     "output_type": "display_data"
    }
   ],
   "source": [
    "# 用直方图显示出各个算法的F1分数\n",
    "import seaborn as sns\n",
    "methods = [\"Logistic Regression\", \"KNN\", \"SVM\",\n",
    "                    \"Naive Bayes\", \"Decision Tree\", \"Random Forest\"]\n",
    "f1 = [lr_f1, knn_f1, svm_f1, nb_f1, dt_f1, rfc_f1]\n",
    "colors = [\"orange\", \"red\", \"purple\", \"magenta\", \"green\", \"blue\"]\n",
    "sns.set_style(\"whitegrid\")\n",
    "plt.figure(figsize=(16, 5))\n",
    "plt.yticks(np.arange(0, 100, 10))\n",
    "plt.ylim((0, 80))\n",
    "plt.ylabel(\"F1 Score\")\n",
    "plt.xlabel(\"Algorothms\")\n",
    "sns.barplot(x=methods, y=f1, palette=colors)\n",
    "plt.show()"
   ]
  },
  {
   "cell_type": "code",
   "execution_count": 31,
   "metadata": {},
   "outputs": [
    {
     "data": {
      "image/png": "[encoded data removed]",
      "text/plain": [
       "<Figure size 1152x360 with 1 Axes>"
      ]
     },
     "metadata": {},
     "output_type": "display_data"
    }
   ],
   "source": [
    "# 用直方图显示出各个算法的预测准确率\n",
    "import seaborn as sns\n",
    "methods = [\"Logistic Regression\", \"KNN\", \"SVM\",\n",
    "                    \"Naive Bayes\", \"Decision Tree\", \"Random Forest\"]\n",
    "acc = [lr_acc, knn_acc, svm_acc, nb_acc, dt_acc, rfc_acc]\n",
    "colors = [\"orange\", \"red\", \"purple\", \"magenta\", \"green\", \"blue\"]\n",
    "sns.set_style(\"whitegrid\")\n",
    "plt.figure(figsize=(16, 5))\n",
    "plt.yticks(np.arange(0, 100, 10))\n",
    "plt.ylim((0, 80))\n",
    "plt.ylabel(\"F1 Score\")\n",
    "plt.xlabel(\"Algorothms\")\n",
    "sns.barplot(x=methods, y=acc, palette=colors)\n",
    "plt.show()"
   ]
  },
  {
   "cell_type": "code",
   "execution_count": null,
   "metadata": {},
   "outputs": [],
   "source": []
  }
 ],
 "metadata": {
  "interpreter": {
   "hash": "96bbb65fb5df4d9cc0d3b437c46ecfe8c6742e111c114025f0cea31b14306341"
  },
  "kernelspec": {
   "display_name": "Python 3.8.8 ('Vuean_ML')",
   "language": "python",
   "name": "python3"
  },
  "language_info": {
   "codemirror_mode": {
    "name": "ipython",
    "version": 3
   },
   "file_extension": ".py",
   "mimetype": "text/x-python",
   "name": "python",
   "nbconvert_exporter": "python",
   "pygments_lexer": "ipython3",
   "version": "3.8.8"
  },
  "orig_nbformat": 4
 },
 "nbformat": 4,
 "nbformat_minor": 2
}
