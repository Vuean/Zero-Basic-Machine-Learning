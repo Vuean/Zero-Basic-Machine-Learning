{
 "cells": [
  {
   "cell_type": "code",
   "execution_count": 1,
   "metadata": {},
   "outputs": [
    {
     "name": "stdout",
     "output_type": "stream",
     "text": [
      "找到了13个词\n",
      "这3句话(单词)的序号编码 [[2, 3, 4, 1, 5, 6], [7, 8, 9, 1, 10, 11], [12, 13]]\n",
      "这3句话单词的One-hot编码 [[0. 1. 1. 1. 1. 1. 1. 0. 0. 0. 0. 0. 0. 0. 0. 0. 0. 0. 0. 0. 0. 0. 0. 0.\n",
      "  0. 0. 0. 0. 0. 0.]\n",
      " [0. 1. 0. 0. 0. 0. 0. 1. 1. 1. 1. 1. 0. 0. 0. 0. 0. 0. 0. 0. 0. 0. 0. 0.\n",
      "  0. 0. 0. 0. 0. 0.]\n",
      " [0. 0. 0. 0. 0. 0. 0. 0. 0. 0. 0. 0. 1. 1. 0. 0. 0. 0. 0. 0. 0. 0. 0. 0.\n",
      "  0. 0. 0. 0. 0. 0.]]\n"
     ]
    }
   ],
   "source": [
    "from keras.preprocessing.text import Tokenizer # 导入Tokenizer工具\n",
    "words = ['Lao Wang has a Wechat account.', 'He is not a nice person.', 'Be careful.']\n",
    "tokenizer = Tokenizer(num_words=30) # 词典大小只设定30个词(因为句子数量少)\n",
    "tokenizer.fit_on_texts(words) # 根据3个句子编辑词典\n",
    "sequences = tokenizer.texts_to_sequences(words) # 为3个句子根据词典里面的索引进行序号编码\n",
    "one_hot_matrix = tokenizer.texts_to_matrix(words, mode='binary') # 进行ont-hot编码\n",
    "word_index = tokenizer.word_index   # 词典中的单词索引总数\n",
    "print('找到了%s个词'%len(word_index))\n",
    "print('这3句话(单词)的序号编码' , sequences)\n",
    "print('这3句话单词的One-hot编码', one_hot_matrix)"
   ]
  },
  {
   "cell_type": "markdown",
   "metadata": {},
   "source": [
    "### 7.4.1 用Tokenizer给文本分词"
   ]
  },
  {
   "cell_type": "code",
   "execution_count": 2,
   "metadata": {},
   "outputs": [
    {
     "data": {
      "text/html": [
       "<div>\n",
       "<style scoped>\n",
       "    .dataframe tbody tr th:only-of-type {\n",
       "        vertical-align: middle;\n",
       "    }\n",
       "\n",
       "    .dataframe tbody tr th {\n",
       "        vertical-align: top;\n",
       "    }\n",
       "\n",
       "    .dataframe thead th {\n",
       "        text-align: right;\n",
       "    }\n",
       "</style>\n",
       "<table border=\"1\" class=\"dataframe\">\n",
       "  <thead>\n",
       "    <tr style=\"text-align: right;\">\n",
       "      <th></th>\n",
       "      <th>id</th>\n",
       "      <th>Review Text</th>\n",
       "      <th>Rating</th>\n",
       "    </tr>\n",
       "  </thead>\n",
       "  <tbody>\n",
       "    <tr>\n",
       "      <th>0</th>\n",
       "      <td>0</td>\n",
       "      <td>Absolutely wonderful - silky and comfortable</td>\n",
       "      <td>4</td>\n",
       "    </tr>\n",
       "    <tr>\n",
       "      <th>1</th>\n",
       "      <td>1</td>\n",
       "      <td>Love this dress!  it's sooo pretty.  i happene...</td>\n",
       "      <td>5</td>\n",
       "    </tr>\n",
       "    <tr>\n",
       "      <th>2</th>\n",
       "      <td>2</td>\n",
       "      <td>I had such high hopes for this dress and reall...</td>\n",
       "      <td>3</td>\n",
       "    </tr>\n",
       "    <tr>\n",
       "      <th>3</th>\n",
       "      <td>3</td>\n",
       "      <td>I love, love, love this jumpsuit. it's fun, fl...</td>\n",
       "      <td>5</td>\n",
       "    </tr>\n",
       "    <tr>\n",
       "      <th>4</th>\n",
       "      <td>4</td>\n",
       "      <td>This shirt is very flattering to all due to th...</td>\n",
       "      <td>5</td>\n",
       "    </tr>\n",
       "  </tbody>\n",
       "</table>\n",
       "</div>"
      ],
      "text/plain": [
       "   id                                        Review Text  Rating\n",
       "0   0       Absolutely wonderful - silky and comfortable       4\n",
       "1   1  Love this dress!  it's sooo pretty.  i happene...       5\n",
       "2   2  I had such high hopes for this dress and reall...       3\n",
       "3   3  I love, love, love this jumpsuit. it's fun, fl...       5\n",
       "4   4  This shirt is very flattering to all due to th...       5"
      ]
     },
     "execution_count": 2,
     "metadata": {},
     "output_type": "execute_result"
    }
   ],
   "source": [
    "# 读入这个评论文本数据集：\n",
    "import numpy as np\n",
    "import pandas as pd\n",
    "dir = 'dataset/'\n",
    "dir_train = dir + 'Clothing Reviews.csv'\n",
    "df_train = pd.read_csv(dir_train)\n",
    "df_train.head()"
   ]
  },
  {
   "cell_type": "code",
   "execution_count": 3,
   "metadata": {},
   "outputs": [],
   "source": [
    "# 然后对数据集进行分词工作。词典的大小设定为2万。\n",
    "from keras.preprocessing.text import Tokenizer # 导入分词工具\n",
    "X_train_lst = df_train[\"Review Text\"].values # 将评论读入张量(训练集)\n",
    "y_train = df_train[\"Rating\"].values # 构建标签集\n",
    "dictionary_size = 20000 # 设定词典的大小\n",
    "tokenizer = Tokenizer(num_words=dictionary_size) # 初始化词典\n",
    "tokenizer.fit_on_texts( X_train_lst ) # 使用训练集创建词典索引\n",
    "# 为所有的单词分配索引值，完成分词工作\n",
    "X_train_tokenized_lst = tokenizer.texts_to_sequences(X_train_lst)"
   ]
  },
  {
   "cell_type": "code",
   "execution_count": 4,
   "metadata": {},
   "outputs": [
    {
     "data": {
      "image/png": "[encoded data removed]",
      "text/plain": [
       "<Figure size 432x288 with 1 Axes>"
      ]
     },
     "metadata": {
      "needs_background": "light"
     },
     "output_type": "display_data"
    }
   ],
   "source": [
    "import matplotlib.pyplot as plt # 导入matplotlib\n",
    "word_per_comment = [len(comment) for comment in X_train_tokenized_lst]\n",
    "plt.hist(word_per_comment, bins = np.arange(0,500,10)) # 显示评论长度分布\n",
    "plt.show()"
   ]
  },
  {
   "cell_type": "code",
   "execution_count": 5,
   "metadata": {},
   "outputs": [],
   "source": [
    "from keras.preprocessing.sequence import pad_sequences \n",
    "max_comment_length = 100 # 设定评论输入长度为100，并填充默认值(如字数少于100)\n",
    "X_train = pad_sequences(X_train_tokenized_lst, maxlen=max_comment_length)"
   ]
  },
  {
   "cell_type": "markdown",
   "metadata": {},
   "source": [
    "### 7.4.2 构建包含词嵌入的SimpleRNN"
   ]
  },
  {
   "cell_type": "code",
   "execution_count": null,
   "metadata": {},
   "outputs": [],
   "source": [
    "from keras.models import Sequential # 导入贯序模型\n",
    "from keras.layers.embeddings import Embedding #导入词嵌入层\n",
    "from keras.layers import Dense #导入全连接层\n",
    "from keras.layers import SimpleRNN #导入SimpleRNN层\n",
    "embedding_vecor_length = 60 # 设定词嵌入向量长度为60\n",
    "rnn = Sequential() # 贯序模型\n",
    "rnn.add(Embedding(dictionary_size, embedding_vecor_length, \n",
    "          input_length=max_comment_length)) # 加入词嵌入层\n",
    "rnn.add(SimpleRNN(100)) # 加入SimpleRNN层\n",
    "rnn.add(Dense(10, activation='relu')) # 加入全连接层\n",
    "rnn.add(Dense(6, activation='softmax')) # 加入分类输出层\n",
    "rnn.compile(loss='sparse_categorical_crossentropy', #损失函数\n",
    "            optimizer='adam', # 优化器\n",
    "            metrics=['acc']) # 评估指标\n",
    "print(rnn.summary()) #打印网络模型                \n"
   ]
  },
  {
   "cell_type": "code",
   "execution_count": null,
   "metadata": {},
   "outputs": [],
   "source": [
    "history = rnn.fit(X_train, y_train,\n",
    "                                    validation_split = 0.3,\n",
    "                                    epochs = 10,\n",
    "                                    batch_size = 64)"
   ]
  },
  {
   "cell_type": "markdown",
   "metadata": {},
   "source": [
    "## 7.6 用LSTM鉴定评论文本"
   ]
  },
  {
   "cell_type": "code",
   "execution_count": null,
   "metadata": {},
   "outputs": [],
   "source": [
    "from keras.models import Sequential # 导入贯序模型\n",
    "from keras.layers.embeddings import Embedding #导入词嵌入层\n",
    "from keras.layers import Dense #导入全连接层\n",
    "from keras.layers import LSTM #导入LSTM层\n",
    "embedding_vecor_length = 60 # 设定词嵌入向量长度为60\n",
    "lstm = Sequential() # 贯序模型\n",
    "lstm.add(Embedding(dictionary_size, embedding_vecor_length, \n",
    "          input_length=max_comment_length)) # 加入词嵌入层\n",
    "lstm.add(LSTM(100)) # 加入LSTM层\n",
    "lstm.add(Dense(10, activation='relu')) # 加入全连接层\n",
    "lstm.add(Dense(6, activation='softmax')) # 加入分类输出层\n",
    "lstm.compile(loss='sparse_categorical_crossentropy', #损失函数\n",
    "             optimizer = 'adam', # 优化器\n",
    "             metrics = ['acc']) # 评估指标\n",
    "history = rnn.fit(X_train, y_train, \n",
    "                    validation_split = 0.3,\n",
    "                    epochs=10, \n",
    "                    batch_size=64)"
   ]
  }
 ],
 "metadata": {
  "interpreter": {
   "hash": "96bbb65fb5df4d9cc0d3b437c46ecfe8c6742e111c114025f0cea31b14306341"
  },
  "kernelspec": {
   "display_name": "Python 3.8.8 ('Vuean_ML')",
   "language": "python",
   "name": "python3"
  },
  "language_info": {
   "codemirror_mode": {
    "name": "ipython",
    "version": 3
   },
   "file_extension": ".py",
   "mimetype": "text/x-python",
   "name": "python",
   "nbconvert_exporter": "python",
   "pygments_lexer": "ipython3",
   "version": "3.8.8"
  },
  "orig_nbformat": 4
 },
 "nbformat": 4,
 "nbformat_minor": 2
}
